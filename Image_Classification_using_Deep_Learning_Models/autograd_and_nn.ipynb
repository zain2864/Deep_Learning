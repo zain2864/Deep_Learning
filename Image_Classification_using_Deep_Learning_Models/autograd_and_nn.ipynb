{
  "cells": [
    {
      "cell_type": "markdown",
      "metadata": {
        "id": "JcjwaiH7h7lk"
      },
      "source": [
        "Make sure you fill your name and NetID below:"
      ]
    },
    {
      "cell_type": "code",
      "execution_count": null,
      "metadata": {
        "id": "ChhLWuYlh7lm"
      },
      "outputs": [],
      "source": [
        "NAME = \"Zain Mughal\"\n",
        "NET_ID = \"zmm21\""
      ]
    },
    {
      "cell_type": "markdown",
      "metadata": {
        "id": "9FjQDy2rh7ln"
      },
      "source": [
        "---"
      ]
    },
    {
      "cell_type": "markdown",
      "metadata": {
        "id": "T4pnj0Dwh7ln"
      },
      "source": [
        "# torch.autograd and torch.nn\n",
        "\n",
        "The `torch.autograd` package provides classes and functions implementing automatic differentiation of arbitrary scalar valued functions. As you saw in the linear_classifier notebook, deriving and implementing the gradient of even a very simple model can be time-consuming and potentially error-prone. With `torch.autograd`, you only need to implement the forward pass of your model, and PyTorch will handle the backward pass.\n",
        "\n",
        "The `torch.nn` package defines a set of Modules, which you can think of as a neural network layer that has produces output from input and may have some trainable weights.\n",
        "\n",
        "You can also find the detailed [API doc](http://pytorch.org/docs/stable/index.html) here.\n",
        "If you have other questions that are not addressed by the API docs, the [PyTorch forum](https://discuss.pytorch.org/) is a much better place to ask than StackOverflow.\n"
      ]
    },
    {
      "cell_type": "markdown",
      "metadata": {
        "id": "P3Y01f2rh7lo"
      },
      "source": [
        "# Table of Contents\n",
        "\n",
        "This assignment has 5 parts. You will learn PyTorch on **three different levels of abstraction**, which will help you understand it better.\n",
        "\n",
        "1. Part I, Preparation: As we did in the linear classifier, we will use CIFAR-10 dataset.\n",
        "2. Part II, Barebones PyTorch: **Abstraction level 1**, we will work directly with the lowest-level PyTorch Tensors with autograd.\n",
        "3. Part III, PyTorch Module API: **Abstraction level 2**, we will use `nn.Module` to define an arbitrary neural network architecture. \n",
        "4. Part IV, PyTorch Sequential API: **Abstraction level 3**, we will use `nn.Sequential` to define a fully-connected and convolutional network very conveniently. \n",
        "\n",
        "Here is a table of comparison:\n",
        "\n",
        "| API             | Flexibility | Convenience |\n",
        "|-----------------|-------------|-------------|\n",
        "| Barebone        | High        | Low         |\n",
        "| `nn.Module`     | High        | Medium      |\n",
        "| `nn.Sequential` | Low         | High        |"
      ]
    },
    {
      "cell_type": "markdown",
      "metadata": {
        "id": "jlD_icW1h7lo"
      },
      "source": [
        "## Install starter code\n",
        "We have implemented some utility functions for this exercise in the [`coutils` package](https://github.com/yfw/starter-code). Run this cell to download and install it."
      ]
    },
    {
      "cell_type": "code",
      "execution_count": null,
      "metadata": {
        "id": "HIiNr73_h7lp"
      },
      "outputs": [],
      "source": [
        "!pip install git+https://github.com/yfw/starter-code"
      ]
    },
    {
      "cell_type": "markdown",
      "metadata": {
        "nbgrader": {
          "grade": false,
          "grade_id": "squares",
          "locked": false,
          "schema_version": 3,
          "solution": false,
          "task": false
        },
        "id": "JagDEdyth7lq"
      },
      "source": [
        "## Setup code\n",
        "Run some setup code for this notebook."
      ]
    },
    {
      "cell_type": "code",
      "execution_count": null,
      "metadata": {
        "id": "dQk1tGBch7lq"
      },
      "outputs": [],
      "source": [
        "import coutils\n",
        "from coutils import fix_random_seed\n",
        "\n",
        "from collections import OrderedDict\n",
        "import numpy as np\n",
        "import torch\n",
        "import torch.nn as nn\n",
        "import torch.nn.functional as F\n",
        "import torch.optim as optim\n",
        "from torch.utils.data import DataLoader\n",
        "from torch.utils.data import sampler\n",
        "\n",
        "import torchvision.datasets as dset\n",
        "import torchvision.transforms as T\n",
        "\n",
        "# for plotting\n",
        "import matplotlib.pyplot as plt\n",
        "%matplotlib inline\n",
        "plt.rcParams['figure.figsize'] = (10.0, 8.0) # set default size of plots\n",
        "plt.rcParams['image.interpolation'] = 'nearest'\n",
        "plt.rcParams['image.cmap'] = 'gray'"
      ]
    },
    {
      "cell_type": "code",
      "execution_count": null,
      "metadata": {
        "colab": {
          "base_uri": "https://localhost:8080/",
          "height": 118,
          "referenced_widgets": [
            "d64a82045f144a4ab2b1b6e46b8fbdbf",
            "b7e1861b480e4a39a4288a2dc601a051",
            "d5ff3f05e46f42e28cb7aea2dcbb9c89",
            "f2fd7ebb10844383b6c6b493d8fd196c",
            "343eba7de2b74c098a67ba7b390517fd",
            "2fa321b1326548c28c8194238912baa9",
            "e110c97c5e694129a39a3970e976bc8a",
            "16f66579581e4aff828769bce8059c90",
            "205c47db671b45c0b7729e589914f4b8",
            "4be6ccc4c13c4417964daf79bbb5336b",
            "541b118fef56467782e9dcfcfa7c7f19"
          ]
        },
        "id": "0JRDBm9vh7lr",
        "outputId": "130af3bd-089e-42d3-fb25-111456ea4431"
      },
      "outputs": [
        {
          "output_type": "stream",
          "name": "stdout",
          "text": [
            "Downloading https://www.cs.toronto.edu/~kriz/cifar-10-python.tar.gz to ./datasets/cifar-10-python.tar.gz\n"
          ]
        },
        {
          "output_type": "display_data",
          "data": {
            "application/vnd.jupyter.widget-view+json": {
              "model_id": "d64a82045f144a4ab2b1b6e46b8fbdbf",
              "version_minor": 0,
              "version_major": 2
            },
            "text/plain": [
              "  0%|          | 0/170498071 [00:00<?, ?it/s]"
            ]
          },
          "metadata": {}
        },
        {
          "output_type": "stream",
          "name": "stdout",
          "text": [
            "Extracting ./datasets/cifar-10-python.tar.gz to ./datasets\n",
            "Files already downloaded and verified\n",
            "Files already downloaded and verified\n"
          ]
        }
      ],
      "source": [
        "NUM_TRAIN = 49000\n",
        "\n",
        "# The torchvision.transforms package provides tools for preprocessing data\n",
        "# and for performing data augmentation; here we set up a transform to\n",
        "# preprocess the data by subtracting the mean RGB value and dividing by the\n",
        "# standard deviation of each RGB value; we've hardcoded the mean and std.\n",
        "transform = T.Compose([\n",
        "                T.ToTensor(),\n",
        "                T.Normalize((0.4914, 0.4822, 0.4465), (0.2023, 0.1994, 0.2010))\n",
        "            ])\n",
        "\n",
        "# We set up a Dataset object for each split (train / val / test); Datasets load\n",
        "# training examples one at a time, so we wrap each Dataset in a DataLoader which\n",
        "# iterates through the Dataset and forms minibatches. We divide the CIFAR-10\n",
        "# training set into train and val sets by passing a Sampler object to the\n",
        "# DataLoader telling how it should sample from the underlying Dataset.\n",
        "cifar10_train = dset.CIFAR10('./datasets', train=True, download=True,\n",
        "                             transform=transform)\n",
        "loader_train = DataLoader(cifar10_train, batch_size=64, \n",
        "                          sampler=sampler.SubsetRandomSampler(range(NUM_TRAIN)))\n",
        "\n",
        "cifar10_val = dset.CIFAR10('./datasets', train=True, download=True,\n",
        "                           transform=transform)\n",
        "loader_val = DataLoader(cifar10_val, batch_size=64, \n",
        "                        sampler=sampler.SubsetRandomSampler(range(NUM_TRAIN, 50000)))\n",
        "\n",
        "cifar10_test = dset.CIFAR10('./datasets', train=False, download=True, \n",
        "                            transform=transform)\n",
        "loader_test = DataLoader(cifar10_test, batch_size=64)"
      ]
    },
    {
      "cell_type": "markdown",
      "metadata": {
        "id": "_cB4YVQuh7lr"
      },
      "source": [
        "Note that if CUDA is not enabled, `torch.cuda.is_available()` will return False and this notebook will fallback to CPU mode.\n",
        "\n",
        "The global variables `dtype` and `device` will control the data types throughout this assignment.\n",
        "\n",
        "We will be using `torch.float = torch.float32` for data and `torch.long = torch.int64` for labels.\n",
        "\n",
        "Please refer to https://pytorch.org/docs/stable/tensor_attributes.html#torch-dtype for more details about data types."
      ]
    },
    {
      "cell_type": "code",
      "execution_count": null,
      "metadata": {
        "nbgrader": {
          "grade": false,
          "grade_id": "correct_squares",
          "locked": false,
          "schema_version": 3,
          "solution": false,
          "task": false
        },
        "colab": {
          "base_uri": "https://localhost:8080/"
        },
        "id": "CDYQsyKrh7ls",
        "outputId": "a4279732-6e59-42b5-bcf2-8da0acdf56f6"
      },
      "outputs": [
        {
          "output_type": "stream",
          "name": "stdout",
          "text": [
            "using device: cuda:0\n"
          ]
        }
      ],
      "source": [
        "dtype = torch.float\n",
        "ltype = torch.long\n",
        "\n",
        "if torch.cuda.is_available():\n",
        "  device = torch.device('cuda:0')\n",
        "else:\n",
        "  device = torch.device('cpu')\n",
        "\n",
        "# Constant to control how frequently we print train loss\n",
        "print_every = 100\n",
        "\n",
        "print('using device:', device)"
      ]
    },
    {
      "cell_type": "markdown",
      "metadata": {
        "id": "h_9YioEuh7ls"
      },
      "source": [
        "Before we start, we define the flatten function for convenience."
      ]
    },
    {
      "cell_type": "code",
      "execution_count": null,
      "metadata": {
        "id": "3vNXC2f0h7ls"
      },
      "outputs": [],
      "source": [
        "def flatten(x, start_dim=1, end_dim=-1):\n",
        "  return x.flatten(start_dim=start_dim, end_dim=end_dim)"
      ]
    },
    {
      "cell_type": "markdown",
      "metadata": {
        "id": "ZIc5ctK3h7ls"
      },
      "source": [
        "# Part II. Barebones PyTorch\n",
        "\n",
        "PyTorch ships with high-level APIs to help us define model architectures conveniently, which we will cover in Part II of this tutorial. In this section, we will start with the barebone PyTorch elements to understand the autograd engine better. After this exercise, you will come to appreciate the high-level model API more.\n",
        "\n",
        "We will start with a simple fully-connected ReLU network with two hidden layers for CIFAR classification. \n",
        "This implementation computes the forward pass using operations on PyTorch Tensors, and uses PyTorch autograd to compute gradients. It is important that you understand every line, because you will write a harder version after the example.\n",
        "\n",
        "When we create a PyTorch Tensor with `requires_grad=True`, then operations involving that Tensor will not just compute values; they will also build up a computational graph in the background, allowing us to easily backpropagate through the graph to compute gradients of some Tensors with respect to a downstream loss. Concretely, if `x` is a Tensor with `x.requires_grad == True` then after backpropagation `x.grad` will be another Tensor holding the gradient of `x` with respect to the scalar loss at the end."
      ]
    },
    {
      "cell_type": "markdown",
      "metadata": {
        "id": "92pxEHXTh7ls"
      },
      "source": [
        "### Barebones PyTorch: Two-Layer Network\n",
        "\n",
        "Here we define a function `two_layer_fc` which performs the forward pass of a two-layer fully-connected ReLU network on a batch of image data. After defining the forward pass we check that it doesn't crash and that it produces outputs of the right shape by running zeros through the network.\n",
        "\n",
        "You don't have to write any code here, but it's important that you read and understand the implementation."
      ]
    },
    {
      "cell_type": "code",
      "execution_count": null,
      "metadata": {
        "colab": {
          "base_uri": "https://localhost:8080/"
        },
        "id": "1ChglL40h7lt",
        "outputId": "5b9ca4f8-348b-4777-f436-6d8830b9691f"
      },
      "outputs": [
        {
          "output_type": "stream",
          "name": "stdout",
          "text": [
            "Output size: [64, 10]\n"
          ]
        }
      ],
      "source": [
        "def two_layer_fc(x, params):\n",
        "  \"\"\"\n",
        "  A fully-connected neural networks; the architecture is:\n",
        "  NN is fully connected -> ReLU -> fully connected layer.\n",
        "  Note that this function only defines the forward pass; \n",
        "  PyTorch will take care of the backward pass for us.\n",
        "  \n",
        "  The input to the network will be a minibatch of data, of shape\n",
        "  (N, d1, ..., dM) where d1 * ... * dM = D. The hidden layer will have H units,\n",
        "  and the output layer will produce scores for K classes.\n",
        "  \n",
        "  Inputs:\n",
        "  - x: A PyTorch Tensor of shape (N, d1, ..., dM) giving a minibatch of\n",
        "    input data.\n",
        "  - params: A list [w1, b1, w2, b2] of PyTorch Tensors giving weights and biases for the network;\n",
        "    w1 has shape (D, H), b1 has shape (H,), w2 has shape (H, K), and b2 has shape (K,).\n",
        "  \n",
        "  Returns:\n",
        "  - scores: A PyTorch Tensor of shape (N, K) giving classification scores for\n",
        "    the input data x.\n",
        "  \"\"\"\n",
        "  # first we flatten the image\n",
        "  x = flatten(x)  # shape: [batch_size, C x H x W]\n",
        "  \n",
        "  w1, b1, w2, b2 = params\n",
        "\n",
        "  # Forward pass: compute predicted y using operations on Tensors. If w1 and\n",
        "  # w2 have requires_grad=True, then operations involving these Tensors will cause\n",
        "  # PyTorch to build a computational graph, allowing automatic computation of\n",
        "  # gradients. Since we are no longer implementing the backward pass by hand we\n",
        "  # don't need to keep references to intermediate values.\n",
        "  # Note that F.linear(x, w, b) is equivalent to x.mm(w.t()) + b\n",
        "  # For ReLU, you can also use `.clamp(min=0)`, equivalent to `F.relu()`\n",
        "  x = F.relu(F.linear(x, w1.T, b1))\n",
        "  x = F.linear(x, w2.T, b2)\n",
        "  return x\n",
        "    \n",
        "\n",
        "def two_layer_fc_test():\n",
        "  hidden_layer_size = 42\n",
        "  x = torch.zeros((64, 3, 16, 16), dtype=dtype)  # minibatch size 64, feature dimension 3*16*16\n",
        "  w1 = torch.zeros((3*16*16, hidden_layer_size), dtype=dtype)\n",
        "  b1 = torch.zeros((hidden_layer_size,), dtype=dtype)\n",
        "  w2 = torch.zeros((hidden_layer_size, 10), dtype=dtype)\n",
        "  b2 = torch.zeros((10,), dtype=dtype)\n",
        "  scores = two_layer_fc(x, [w1, b1, w2, b2])\n",
        "  print('Output size:', list(scores.size()))  # you should see [64, 10]\n",
        "\n",
        "two_layer_fc_test()"
      ]
    },
    {
      "cell_type": "markdown",
      "metadata": {
        "id": "NX5N0p6Fh7lu"
      },
      "source": [
        "### Barebones PyTorch: Three-Layer ConvNet\n",
        "\n",
        "Here you will complete the implementation of the function `three_layer_convnet`, which will perform the forward pass of a three-layer convolutional network. Like above, we can immediately test our implementation by passing zeros through the network. The network should have the following architecture:\n",
        "\n",
        "1. A convolutional layer (with bias) with `channel_1` filters, each with shape `KW1 x KH1`, and zero-padding of two\n",
        "2. ReLU nonlinearity\n",
        "3. A convolutional layer (with bias) with `channel_2` filters, each with shape `KW2 x KH2`, and zero-padding of one\n",
        "4. ReLU nonlinearity\n",
        "5. Fully-connected layer with bias, producing scores for C classes.\n",
        "\n",
        "Note that we have **no softmax activation** here after our fully-connected layer: this is because PyTorch's cross entropy loss performs a softmax activation for you, and by bundling that step in makes computation more efficient.\n",
        "\n",
        "**HINT**: For convolutions: https://pytorch.org/docs/stable/nn.functional.html#torch.nn.functional.conv2d; pay attention to the shapes of convolutional filters!"
      ]
    },
    {
      "cell_type": "code",
      "execution_count": null,
      "metadata": {
        "deletable": false,
        "nbgrader": {
          "cell_type": "code",
          "checksum": "d211cfa8aec9020d388f17605ca1d7d2",
          "grade": false,
          "grade_id": "cell-390fe9f3d3f6b481",
          "locked": false,
          "schema_version": 3,
          "solution": true,
          "task": false
        },
        "id": "b8L6sey1h7lu"
      },
      "outputs": [],
      "source": [
        "def three_layer_convnet(x, params):\n",
        "  \"\"\"\n",
        "  Performs the forward pass of a three-layer convolutional network with the\n",
        "  architecture defined above.\n",
        "\n",
        "  Inputs:\n",
        "  - x: A PyTorch Tensor of shape (N, C, H, W) giving a minibatch of images\n",
        "  - params: A list of PyTorch Tensors giving the weights and biases for the\n",
        "    network; should contain the following:\n",
        "    - conv_w1: PyTorch Tensor of shape (channel_1, C, KH1, KW1) giving weights\n",
        "      for the first convolutional layer\n",
        "    - conv_b1: PyTorch Tensor of shape (channel_1,) giving biases for the first\n",
        "      convolutional layer\n",
        "    - conv_w2: PyTorch Tensor of shape (channel_2, channel_1, KH2, KW2) giving\n",
        "      weights for the second convolutional layer\n",
        "    - conv_b2: PyTorch Tensor of shape (channel_2,) giving biases for the second\n",
        "      convolutional layer\n",
        "    - fc_w: PyTorch Tensor giving weights for the fully-connected layer. Can you\n",
        "      figure out what the shape should be?\n",
        "    - fc_b: PyTorch Tensor giving biases for the fully-connected layer. Can you\n",
        "      figure out what the shape should be?\n",
        "  \n",
        "  Returns:\n",
        "  - scores: PyTorch Tensor of shape (N, K) giving classification scores for x\n",
        "  \"\"\"\n",
        "  conv_w1, conv_b1, conv_w2, conv_b2, fc_w, fc_b = params\n",
        "  scores = None\n",
        "  ##############################################################################\n",
        "  # TODO: Implement the forward pass for the three-layer ConvNet.              #\n",
        "  # Hint: F.linear, F.conv2d, F.relu, flatten                                  #\n",
        "  ##############################################################################\n",
        "  # Replace \"pass\" statement with your code\n",
        "  F=torch.nn.functional.conv2d\n",
        "  t=torch.nn.functional.conv2d(x,conv_w1,padding=2)+conv_b1.view(1,-1,1,1)\n",
        "  g=torch.nn.functional.conv2d(t.clamp(min=0),conv_w2,padding=1)+conv_b2.view(1,-1,1,1)\n",
        "  A=g.view(t.shape[0],-1).clamp(min=0).mm(fc_w)+fc_b\n",
        "  scores=A\n",
        "  # END OF YOUR CODE\n",
        "  return scores"
      ]
    },
    {
      "cell_type": "markdown",
      "metadata": {
        "id": "UzWspYMjh7lu"
      },
      "source": [
        "After defining the forward pass of the ConvNet above, run the following cell to test your implementation.\n",
        "\n",
        "When you run this function, scores should have shape (64, 10)."
      ]
    },
    {
      "cell_type": "code",
      "execution_count": null,
      "metadata": {
        "deletable": false,
        "editable": false,
        "nbgrader": {
          "cell_type": "code",
          "checksum": "5e2f987e23b83abf4301ecb058e873db",
          "grade": true,
          "grade_id": "cell-aeb59c75406321f3",
          "locked": true,
          "points": 15,
          "schema_version": 3,
          "solution": false,
          "task": false
        },
        "colab": {
          "base_uri": "https://localhost:8080/"
        },
        "id": "dGExDz2Zh7lv",
        "outputId": "bb1f91a7-8d47-4935-cbb4-acdee627a81f"
      },
      "outputs": [
        {
          "output_type": "stream",
          "name": "stdout",
          "text": [
            "torch.Size([64, 10])\n"
          ]
        }
      ],
      "source": [
        "def three_layer_convnet_test():\n",
        "    x = torch.zeros((64, 3, 32, 32), dtype=dtype)  # minibatch size 64, image size [3, 32, 32]\n",
        "\n",
        "    conv_w1 = torch.zeros((6, 3, 5, 5), dtype=dtype)  # [out_channel, in_channel, kernel_H, kernel_W]\n",
        "    conv_b1 = torch.zeros((6,))  # out_channel\n",
        "    conv_w2 = torch.zeros((9, 6, 3, 3), dtype=dtype)  # [out_channel, in_channel, kernel_H, kernel_W]\n",
        "    conv_b2 = torch.zeros((9,))  # out_channel\n",
        "\n",
        "    # you must calculate the shape of the tensor after two conv layers, before the fully-connected layer\n",
        "    fc_w = torch.zeros((9 * 32 * 32, 10))\n",
        "    fc_b = torch.zeros(10)\n",
        "\n",
        "    scores = three_layer_convnet(x, [conv_w1, conv_b1, conv_w2, conv_b2, fc_w, fc_b])\n",
        "    print(scores.size())  # you should see [64, 10]\n",
        "    return scores.size()\n",
        "three_layer_conv_size = three_layer_convnet_test()\n"
      ]
    },
    {
      "cell_type": "markdown",
      "metadata": {
        "id": "G5jIrJoYh7lv"
      },
      "source": [
        "### Barebones PyTorch: Initialization\n",
        "Let's write a couple utility methods to initialize the weight matrices for our models.\n",
        "\n",
        "- `random_weight(shape)` initializes a weight tensor with the Kaiming normalization method.\n",
        "- `zero_weight(shape)` initializes a weight tensor with all zeros. Useful for instantiating bias parameters.\n",
        "\n",
        "The `random_weight` function uses the Kaiming normal initialization method, described in:\n",
        "\n",
        "He et al, *Delving Deep into Rectifiers: Surpassing Human-Level Performance on ImageNet Classification*, ICCV 2015, https://arxiv.org/abs/1502.01852"
      ]
    },
    {
      "cell_type": "code",
      "execution_count": null,
      "metadata": {
        "colab": {
          "base_uri": "https://localhost:8080/"
        },
        "id": "CAEHUSslh7lv",
        "outputId": "117a6d07-7a5d-4bcb-be65-03b11005d7b3"
      },
      "outputs": [
        {
          "output_type": "execute_result",
          "data": {
            "text/plain": [
              "tensor([[ 0.2201,  0.9436, -1.8656,  0.5038, -0.6500],\n",
              "        [-1.1804,  0.6632,  0.1057, -0.1034,  0.3030],\n",
              "        [-0.3354, -0.0224,  0.2528,  0.2571,  0.8291]], device='cuda:0',\n",
              "       requires_grad=True)"
            ]
          },
          "metadata": {},
          "execution_count": 10
        }
      ],
      "source": [
        "def random_weight(shape):\n",
        "    \"\"\"\n",
        "    Create random Tensors for weights; setting requires_grad=True means that we\n",
        "    want to compute gradients for these Tensors during the backward pass.\n",
        "    We use Kaiming normalization: sqrt(2 / fan_in)\n",
        "    \"\"\"\n",
        "    if len(shape) == 2:  # FC weight\n",
        "        fan_in = shape[0]\n",
        "    else:\n",
        "        fan_in = np.prod(shape[1:]) # conv weight [out_channel, in_channel, kH, kW]\n",
        "    # randn is standard normal distribution generator. \n",
        "    w = torch.randn(shape, device=device, dtype=dtype) * np.sqrt(2. / fan_in)\n",
        "    w.requires_grad = True\n",
        "    return w\n",
        "\n",
        "def zero_weight(shape):\n",
        "    return torch.zeros(shape, device=device, dtype=dtype, requires_grad=True)\n",
        "\n",
        "# create a weight of shape [3 x 5]\n",
        "# you should see the type `torch.cuda.FloatTensor` if you use GPU. \n",
        "# Otherwise it should be `torch.FloatTensor`\n",
        "random_weight((3, 5))"
      ]
    },
    {
      "cell_type": "markdown",
      "metadata": {
        "id": "vcAF0Zi4h7lv"
      },
      "source": [
        "### Barebones PyTorch: Check Accuracy\n",
        "When training the model we will use the following function to check the accuracy of our model on the training or validation sets.\n",
        "\n",
        "When checking accuracy we don't need to compute any gradients; as a result we don't need PyTorch to build a computational graph for us when we compute scores. To prevent a graph from being built we scope our computation under a `torch.no_grad()` context manager."
      ]
    },
    {
      "cell_type": "code",
      "execution_count": null,
      "metadata": {
        "id": "Dik-ekY4h7lw"
      },
      "outputs": [],
      "source": [
        "def check_accuracy_part2(loader, model_fn, params):\n",
        "  \"\"\"\n",
        "  Check the accuracy of a classification model.\n",
        "  \n",
        "  Inputs:\n",
        "  - loader: A DataLoader for the data split we want to check\n",
        "  - model_fn: A function that performs the forward pass of the model,\n",
        "    with the signature scores = model_fn(x, params)\n",
        "  - params: List of PyTorch Tensors giving parameters of the model\n",
        "  \n",
        "  Returns: Nothing, but prints the accuracy of the model\n",
        "  \"\"\"\n",
        "  split = 'val' if loader.dataset.train else 'test'\n",
        "  print('Checking accuracy on the %s set' % split)\n",
        "  num_correct, num_samples = 0, 0\n",
        "  with torch.no_grad():\n",
        "    for x, y in loader:\n",
        "      x = x.to(device=device, dtype=dtype)  # move to device, e.g. GPU\n",
        "      y = y.to(device=device, dtype=ltype)\n",
        "      scores = model_fn(x, params)\n",
        "      _, preds = scores.max(1)\n",
        "      num_correct += (preds == y).sum()\n",
        "      num_samples += preds.size(0)\n",
        "    acc = float(num_correct) / num_samples\n",
        "    print('Got %d / %d correct (%.2f%%)' % (num_correct, num_samples, 100 * acc))\n",
        "    return acc"
      ]
    },
    {
      "cell_type": "markdown",
      "metadata": {
        "id": "xQN6HvVqh7lw"
      },
      "source": [
        "### BareBones PyTorch: Training Loop\n",
        "We can now set up a basic training loop to train our network. We will train the model using stochastic gradient descent without momentum. We will use `torch.nn.functional.cross_entropy` to compute the loss.\n",
        "\n",
        "The training loop takes as input the neural network function, a list of initialized parameters (`[w1, b1, w2, b2]` in our example), and learning rate."
      ]
    },
    {
      "cell_type": "code",
      "execution_count": null,
      "metadata": {
        "id": "L25gOEcKh7lw"
      },
      "outputs": [],
      "source": [
        "def train_part2(model_fn, params, learning_rate):\n",
        "  \"\"\"\n",
        "  Train a model on CIFAR-10.\n",
        "  \n",
        "  Inputs:\n",
        "  - model_fn: A Python function that performs the forward pass of the model.\n",
        "    It should have the signature scores = model_fn(x, params) where x is a\n",
        "    PyTorch Tensor of image data, params is a list of PyTorch Tensors giving\n",
        "    model weights, and scores is a PyTorch Tensor of shape (N, C) giving\n",
        "    scores for the elements in x.\n",
        "  - params: List of PyTorch Tensors giving weights for the model\n",
        "  - learning_rate: Python scalar giving the learning rate to use for SGD\n",
        "  \n",
        "  Returns: Nothing\n",
        "  \"\"\"\n",
        "  acc = 0\n",
        "  for t, (x, y) in enumerate(loader_train):\n",
        "    # Move the data to the proper device (GPU or CPU)\n",
        "    x = x.to(device=device, dtype=dtype)\n",
        "    y = y.to(device=device, dtype=ltype)\n",
        "\n",
        "    # Forward pass: compute scores and loss\n",
        "    scores = model_fn(x, params)\n",
        "    loss = F.cross_entropy(scores, y)\n",
        "\n",
        "    # Backward pass: PyTorch figures out which Tensors in the computational\n",
        "    # graph has requires_grad=True and uses backpropagation to compute the\n",
        "    # gradient of the loss with respect to these Tensors, and stores the\n",
        "    # gradients in the .grad attribute of each Tensor.\n",
        "    loss.backward()\n",
        "\n",
        "    # Update parameters. We don't want to backpropagate through the\n",
        "    # parameter updates, so we scope the updates under a torch.no_grad()\n",
        "    # context manager to prevent a computational graph from being built.\n",
        "    with torch.no_grad():\n",
        "      for w in params:\n",
        "        if w.requires_grad:\n",
        "          w -= learning_rate * w.grad\n",
        "\n",
        "          # Manually zero the gradients after running the backward pass\n",
        "          w.grad.zero_()\n",
        "\n",
        "    if t % print_every == 0 or t == len(loader_train)-1:\n",
        "      print('Iteration %d, loss = %.4f' % (t, loss.item()))\n",
        "      acc = check_accuracy_part2(loader_val, model_fn, params)\n",
        "      print()\n",
        "  return acc"
      ]
    },
    {
      "cell_type": "markdown",
      "metadata": {
        "id": "y0L7u4iVh7lw"
      },
      "source": [
        "### BareBones PyTorch: Train a Two-Layer Network\n",
        "Now we are ready to run the training loop. We need to explicitly allocate tensors for the fully connected weights, `w1` and `w2`. \n",
        "\n",
        "Each minibatch of CIFAR has 64 examples, so the tensor shape is `[64, 3, 32, 32]`. \n",
        "\n",
        "After flattening, `x` shape should be `[64, 3 * 32 * 32]`. This will be the size of the second dimension of `w1`. \n",
        "The first dimension of `w1` is the hidden layer size, which will also be the second dimension of `w2`. \n",
        "\n",
        "Finally, the output of the network is a 10-dimensional vector that represents the probability distribution over 10 classes. \n",
        "\n",
        "You don't need to tune any hyperparameters but you should see accuracies above 40% after training for one epoch."
      ]
    },
    {
      "cell_type": "code",
      "execution_count": null,
      "metadata": {
        "colab": {
          "base_uri": "https://localhost:8080/"
        },
        "id": "O7PbZ24ch7lw",
        "outputId": "180d4c97-3033-472c-fac4-0ba71b3dd34d"
      },
      "outputs": [
        {
          "output_type": "stream",
          "name": "stdout",
          "text": [
            "Iteration 0, loss = 3.6625\n",
            "Checking accuracy on the val set\n",
            "Got 149 / 1000 correct (14.90%)\n",
            "\n",
            "Iteration 100, loss = 2.6230\n",
            "Checking accuracy on the val set\n",
            "Got 333 / 1000 correct (33.30%)\n",
            "\n",
            "Iteration 200, loss = 2.1772\n",
            "Checking accuracy on the val set\n",
            "Got 391 / 1000 correct (39.10%)\n",
            "\n",
            "Iteration 300, loss = 1.8569\n",
            "Checking accuracy on the val set\n",
            "Got 407 / 1000 correct (40.70%)\n",
            "\n",
            "Iteration 400, loss = 1.5431\n",
            "Checking accuracy on the val set\n",
            "Got 436 / 1000 correct (43.60%)\n",
            "\n",
            "Iteration 500, loss = 2.2355\n",
            "Checking accuracy on the val set\n",
            "Got 421 / 1000 correct (42.10%)\n",
            "\n",
            "Iteration 600, loss = 1.8578\n",
            "Checking accuracy on the val set\n",
            "Got 416 / 1000 correct (41.60%)\n",
            "\n",
            "Iteration 700, loss = 1.8910\n",
            "Checking accuracy on the val set\n",
            "Got 434 / 1000 correct (43.40%)\n",
            "\n",
            "Iteration 765, loss = 1.5605\n",
            "Checking accuracy on the val set\n",
            "Got 404 / 1000 correct (40.40%)\n",
            "\n"
          ]
        },
        {
          "output_type": "execute_result",
          "data": {
            "text/plain": [
              "0.404"
            ]
          },
          "metadata": {},
          "execution_count": 13
        }
      ],
      "source": [
        "fix_random_seed(0)\n",
        "\n",
        "C, H, W = 3, 32, 32\n",
        "num_classes = 10\n",
        "\n",
        "hidden_layer_size = 4000\n",
        "learning_rate = 1e-2\n",
        "\n",
        "w1 = random_weight((C*H*W, hidden_layer_size))\n",
        "b1 = zero_weight(hidden_layer_size)\n",
        "w2 = random_weight((hidden_layer_size, num_classes))\n",
        "b2 = zero_weight(num_classes)\n",
        "\n",
        "train_part2(two_layer_fc, [w1, b1, w2, b2], learning_rate)"
      ]
    },
    {
      "cell_type": "markdown",
      "metadata": {
        "id": "OKHcZeYOh7lw"
      },
      "source": [
        "### BareBones PyTorch: Training a ConvNet\n",
        "\n",
        "In the below you should use the functions defined above to train a three-layer convolutional network on CIFAR. The network should have the following architecture:\n",
        "\n",
        "1. Convolutional layer (with bias) with 32 5x5 filters, with zero-padding of 2\n",
        "2. ReLU\n",
        "3. Convolutional layer (with bias) with 16 3x3 filters, with zero-padding of 1\n",
        "4. ReLU\n",
        "5. Fully-connected layer (with bias) to compute scores for 10 classes\n",
        "\n",
        "You should initialize your weight matrices using the `random_weight` function defined above, and you should initialize your bias vectors using the `zero_weight` function above.\n",
        "\n",
        "You don't need to tune any hyperparameters, but if everything works correctly you should achieve an accuracy above 45% after one epoch."
      ]
    },
    {
      "cell_type": "code",
      "execution_count": null,
      "metadata": {
        "deletable": false,
        "nbgrader": {
          "cell_type": "code",
          "checksum": "f4d69929c0a6e5fdc5865dee7c5e9dd8",
          "grade": false,
          "grade_id": "cell-3b49e1207dad7214",
          "locked": false,
          "schema_version": 3,
          "solution": true,
          "task": false
        },
        "colab": {
          "base_uri": "https://localhost:8080/"
        },
        "id": "7d5XA1hLh7lx",
        "outputId": "0d06fdb3-5b24-48de-fb36-cd85e5d38fbb"
      },
      "outputs": [
        {
          "output_type": "stream",
          "name": "stdout",
          "text": [
            "Iteration 0, loss = 2.9279\n",
            "Checking accuracy on the val set\n",
            "Got 88 / 1000 correct (8.80%)\n",
            "\n",
            "Iteration 100, loss = 1.8536\n",
            "Checking accuracy on the val set\n",
            "Got 347 / 1000 correct (34.70%)\n",
            "\n",
            "Iteration 200, loss = 1.7940\n",
            "Checking accuracy on the val set\n",
            "Got 393 / 1000 correct (39.30%)\n",
            "\n",
            "Iteration 300, loss = 1.6055\n",
            "Checking accuracy on the val set\n",
            "Got 402 / 1000 correct (40.20%)\n",
            "\n",
            "Iteration 400, loss = 1.5701\n",
            "Checking accuracy on the val set\n",
            "Got 425 / 1000 correct (42.50%)\n",
            "\n",
            "Iteration 500, loss = 1.6887\n",
            "Checking accuracy on the val set\n",
            "Got 456 / 1000 correct (45.60%)\n",
            "\n",
            "Iteration 600, loss = 1.7023\n",
            "Checking accuracy on the val set\n",
            "Got 445 / 1000 correct (44.50%)\n",
            "\n",
            "Iteration 700, loss = 1.7759\n",
            "Checking accuracy on the val set\n",
            "Got 462 / 1000 correct (46.20%)\n",
            "\n",
            "Iteration 765, loss = 1.3451\n",
            "Checking accuracy on the val set\n",
            "Got 459 / 1000 correct (45.90%)\n",
            "\n"
          ]
        }
      ],
      "source": [
        "fix_random_seed(0)\n",
        "\n",
        "C, H, W = 3, 32, 32\n",
        "num_classes = 10\n",
        "\n",
        "channel_1 = 32\n",
        "channel_2 = 16\n",
        "kernel_size_1 = 5\n",
        "kernel_size_2 = 3\n",
        "\n",
        "learning_rate = 3e-3\n",
        "\n",
        "conv_w1 = None\n",
        "conv_b1 = None\n",
        "conv_w2 = None\n",
        "conv_b2 = None\n",
        "fc_w = None\n",
        "fc_b = None\n",
        "\n",
        "#################################################################################\n",
        "# TODO: Define and initialize the parameters of a three-layer ConvNet           #\n",
        "#       using random_weight() for weights and zero_weight() for biases #\n",
        "#################################################################################\n",
        "# Replace \"pass\" statement with your code\n",
        "conv_w1 = random_weight((channel_1, C, kernel_size_1, kernel_size_1))\n",
        "conv_b1 = zero_weight((channel_1,))\n",
        "conv_w2 = random_weight((channel_2, H, kernel_size_2, kernel_size_2))\n",
        "conv_b2 = zero_weight((channel_2,))\n",
        "fc_w = random_weight((channel_2*W*W, num_classes))\n",
        "fc_b = zero_weight((num_classes,))\n",
        "# END OF YOUR CODE\n",
        "\n",
        "params = [conv_w1, conv_b1, conv_w2, conv_b2, fc_w, fc_b]\n",
        "acc_part2 = train_part2(three_layer_convnet, params, learning_rate)\n"
      ]
    },
    {
      "cell_type": "code",
      "execution_count": null,
      "metadata": {
        "deletable": false,
        "editable": false,
        "nbgrader": {
          "cell_type": "code",
          "checksum": "0a53bfc14809f3fb93eefce87463913e",
          "grade": true,
          "grade_id": "cell-412eea98837ea80b",
          "locked": true,
          "points": 15,
          "schema_version": 3,
          "solution": false,
          "task": false
        },
        "id": "ptUNgIf4h7lx"
      },
      "outputs": [],
      "source": [
        "# Test Cell - DO NOT DELETE\n"
      ]
    },
    {
      "cell_type": "markdown",
      "metadata": {
        "id": "P_u4GS3Hh7lx"
      },
      "source": [
        "# Part III. PyTorch Module API\n",
        "\n",
        "Barebone PyTorch requires that we track all the parameter tensors by hand. This is fine for small networks with a few tensors, but it would be extremely inconvenient and error-prone to track tens or hundreds of tensors in larger networks.\n",
        "\n",
        "PyTorch provides the `nn.Module` API for you to define arbitrary network architectures, while tracking every learnable parameter for you. In Part II, we implemented SGD ourselves. PyTorch also provides the `torch.optim` package that implements all the common optimizers, such as RMSProp, Adagrad, and Adam. You can refer to the [doc](http://pytorch.org/docs/master/optim.html) for the exact specifications of each optimizer.\n",
        "\n",
        "To use the Module API, follow the steps below:\n",
        "\n",
        "1. Subclass `nn.Module`. Give your network class an intuitive name like `TwoLayerFC`. \n",
        "\n",
        "2. In the constructor `__init__()`, define all the layers you need as class attributes. Layer objects like `nn.Linear` and `nn.Conv2d` are themselves `nn.Module` subclasses and contain learnable parameters, so that you don't have to instantiate the raw tensors yourself. `nn.Module` will track these internal parameters for you. Refer to the [doc](http://pytorch.org/docs/master/nn.html) to learn more about the dozens of builtin layers. **Warning**: don't forget to call the `super().__init__()` first!\n",
        "\n",
        "3. In the `forward()` method, define the *connectivity* of your network. You should use the attributes defined in `__init__` as function calls that take tensor as input and output the \"transformed\" tensor. Do *not* create any new layers with learnable parameters in `forward()`! All of them must be declared upfront in `__init__`. \n",
        "\n",
        "After you define your Module subclass, you can instantiate it as an object and call it just like the NN forward function in part II.\n",
        "\n"
      ]
    },
    {
      "cell_type": "markdown",
      "metadata": {
        "id": "O7c6hX_Eh7lx"
      },
      "source": [
        "### Module API: Linear Layer\n",
        "\n",
        "Let's start by creating a module for a linear layer. To specify a linear layer, input dimension and output dimension are provided. The linear layer performs the following computation: $y = xW^T+ b$."
      ]
    },
    {
      "cell_type": "code",
      "execution_count": null,
      "metadata": {
        "deletable": false,
        "nbgrader": {
          "cell_type": "code",
          "checksum": "e1d9f0ed5037bfbe1077dc5bc05af58c",
          "grade": false,
          "grade_id": "cell-c1bf36b4eafe9a75",
          "locked": false,
          "schema_version": 3,
          "solution": true,
          "task": false
        },
        "id": "mBbfgYIQh7lx"
      },
      "outputs": [],
      "source": [
        "class Linear(nn.Module):\n",
        "  def __init__(self, dim_in, dim_out, device):\n",
        "    super(Linear, self).__init__()\n",
        "    self.weights = nn.Parameter(torch.randn([dim_out, dim_in], dtype=torch.float32, device=device)*0.1, requires_grad=True)\n",
        "    self.bias = nn.Parameter(torch.zeros([dim_out], dtype=torch.float32, device=device), requires_grad=True)\n",
        "    self.dim_out = dim_out\n",
        "    self.device = device\n",
        "    \n",
        "  def linear_forward(self, X):\n",
        "    \"\"\"\n",
        "    inputs:\n",
        "     X: tensor of shape (N, dim_in)\n",
        "    outputs:\n",
        "     Y: tensor of shape (N, dim_out)\n",
        "    \"\"\"\n",
        "    Y = None\n",
        "    #################################################################################\n",
        "    # TODO: Implement the forward pass for the linear layer. Store the result in Y.\n",
        "    #################################################################################\n",
        "    # Replace \"pass\" statement with your code\n",
        "    \n",
        "    #Y = flatten(X).mm(self.weights.T) + self.bias\n",
        "    Y = torch.matmul(X, self.weights.T) + self.bias\n",
        "    pass\n",
        "    # END OF YOUR CODE\n",
        "    return Y\n",
        "  \n",
        "  def forward(self, X):\n",
        "    return self.linear_forward(X)"
      ]
    },
    {
      "cell_type": "markdown",
      "metadata": {
        "id": "ErU0eXk3h7lx"
      },
      "source": [
        "Run the following correctness checking code. If your implementation is correct, you should be able to see the output as follows:\n",
        "```python\n",
        "tensor([[ -2.1595,  -0.2037,   1.8567],\n",
        "        [ -6.9537,   0.7306,   2.5298],\n",
        "        [-11.7479,   1.6648,   3.2028],\n",
        "        [-16.5422,   2.5991,   3.8759],\n",
        "        [-21.3364,   3.5334,   4.5489]], grad_fn=<AddBackward0>)\n",
        "```"
      ]
    },
    {
      "cell_type": "code",
      "execution_count": null,
      "metadata": {
        "deletable": false,
        "editable": false,
        "nbgrader": {
          "cell_type": "code",
          "checksum": "fe50593dee1faede5d47168440b6d962",
          "grade": true,
          "grade_id": "cell-6638cfeb4f4c52e5",
          "locked": true,
          "points": 15,
          "schema_version": 3,
          "solution": false,
          "task": false
        },
        "colab": {
          "base_uri": "https://localhost:8080/"
        },
        "id": "bVkavgTlh7lx",
        "outputId": "1080e342-3914-4792-de57-89dfa75cce58"
      },
      "outputs": [
        {
          "output_type": "stream",
          "name": "stdout",
          "text": [
            "tensor([[ -2.1595,  -0.2037,   1.8567],\n",
            "        [ -6.9537,   0.7306,   2.5298],\n",
            "        [-11.7479,   1.6648,   3.2028],\n",
            "        [-16.5422,   2.5991,   3.8759],\n",
            "        [-21.3364,   3.5334,   4.5489]], grad_fn=<AddBackward0>)\n"
          ]
        }
      ],
      "source": [
        "# correctness checking\n",
        "torch.random.manual_seed(0)\n",
        "x = torch.arange(50).view(5, 10).float()\n",
        "my_linear = Linear(10, 3, torch.device('cpu'))\n",
        "y = my_linear(x)\n",
        "print(y)\n"
      ]
    },
    {
      "cell_type": "markdown",
      "metadata": {
        "id": "Ar4X4pVph7lx"
      },
      "source": [
        "### Module API: Convolutional Layer\n",
        "\n",
        "Next, we will implement a convolutional layer by completing the following Conv2D class. The class takes the number of input channels, the number of output channels, kernel_size, stride, and padding values as inputs.\n",
        "\n",
        "It is acceptable to use nested loops for this implementation, but please do _not_ use PyTorch's built-in convolutional methods."
      ]
    },
    {
      "cell_type": "code",
      "execution_count": null,
      "metadata": {
        "deletable": false,
        "nbgrader": {
          "cell_type": "code",
          "checksum": "b2222a145c423589ff77d3587d3b1a34",
          "grade": false,
          "grade_id": "cell-119b8acb1ffc2597",
          "locked": false,
          "schema_version": 3,
          "solution": true,
          "task": false
        },
        "id": "W0WDz7Poh7ly"
      },
      "outputs": [],
      "source": [
        "class Conv2D(nn.Module):\n",
        "  def __init__(self, dim_in, dim_out, kernel_size, stride, padding, device):\n",
        "    super(Conv2D, self).__init__()\n",
        "    \"\"\"\n",
        "    inputs:\n",
        "      dim_in: integer, number of channels in the input\n",
        "      dim_out: integer, number of channels produced by the convolution\n",
        "      kernel_size: integer list of length 2, spatial size of the convolving kernel\n",
        "      stride: integer list of length 2, stride of the convolution along the the height dimension and width dimension\n",
        "      padding: integers list of length 4, zero-padding added to both sides of the height dimension and width dimension\n",
        "      \n",
        "    \"\"\"\n",
        "    # initialize kernel and bias\n",
        "    self.kernel = nn.Parameter(torch.randn([dim_out, dim_in]+kernel_size, dtype=torch.float32, device=device)*0.1, requires_grad=True)\n",
        "    self.bias = nn.Parameter(torch.zeros([dim_out], dtype=torch.float32, device=device), requires_grad=True)\n",
        "    \n",
        "    self.dim_in = dim_in\n",
        "    self.dim_out = dim_out\n",
        "    \n",
        "    self.kernel_size = kernel_size\n",
        "    self.stride = stride\n",
        "    self.padding = padding\n",
        "    self.device = device\n",
        "    \n",
        "  def conv2d_forward(self, X):\n",
        "    \"\"\"\n",
        "    inputs:\n",
        "      X: input images. Shape: (N, dim_in, input_H, input_W)\n",
        "    outputs:\n",
        "      Y: output produced by the convolution. Shape: (N, dim_out, output_H, output_W)\n",
        "    \"\"\"\n",
        "    #################################################################################\n",
        "    # TODO: Implement the forward pass for the convolutional layer.\n",
        "    #       Store the result in Y.\n",
        "    #################################################################################\n",
        "    Y = None\n",
        "    \n",
        "    #Replace \"pass\" statement with your code\n",
        "    N, dim_in, input_H, input_W = X.shape\n",
        "    pad = self.padding[0]\n",
        "    bias = self.bias\n",
        "    kernel = self.kernel\n",
        "    kernel_size = self.kernel_size[0]\n",
        "    dim_out = self.dim_out\n",
        "    stride = self.stride[0]\n",
        "    padding_of_X = F.pad(x, (pad,pad, pad,pad, 0,0, 0,0), mode='constant') # Given from documenation of F.pad() \n",
        "    output_H = 1 + (input_H - kernel_size + 2*pad)//stride #Floor division needed to take care of overfitting\n",
        "    output_W = 1 + (input_W - kernel_size + 2*pad)//stride #Floor division needed to take care of overfitting\n",
        "    Y = torch.zeros((N, dim_out, output_H, output_W))\n",
        "    for T in range(N):\n",
        "      for d in range(output_H):\n",
        "        k = d*stride\n",
        "        e = d*stride + kernel_size\n",
        "\n",
        "        for q in range(output_W):\n",
        "          st_1 = q*stride\n",
        "          st_2 = q*stride + kernel_size\n",
        "\n",
        "          for L in range(dim_out):\n",
        "            x_slice = padding_of_X[T,:,k:e, st_1:st_2]\n",
        "            Y[T, L, d, q] = torch.sum(x_slice*kernel[L]) + bias[L]\n",
        "\n",
        "  \n",
        "    \n",
        "    # END OF YOUR CODE\n",
        "\n",
        "    return Y\n",
        "\n",
        "        \n",
        "  def forward(self, x):\n",
        "    return self.conv2d_forward(x)"
      ]
    },
    {
      "cell_type": "markdown",
      "metadata": {
        "id": "jpVBhG7jh7ly"
      },
      "source": [
        "Run the correctness checking code. If your implementation is correct, you should be able to see the output as follows:\n",
        "```python\n",
        "tensor([[[[ 1.0519,  1.3811],\n",
        "          [ 2.5701,  2.0508]],\n",
        "\n",
        "         [[ 1.3159,  2.4203],\n",
        "          [ 8.4296, 10.1662]]],\n",
        "\n",
        "\n",
        "        [[[ 4.4640,  5.9235],\n",
        "          [ 4.5179,  2.3144]],\n",
        "\n",
        "         [[13.1246, 15.5932],\n",
        "          [20.2635, 22.9700]]]], grad_fn=<AddBackward0>)\n",
        "```"
      ]
    },
    {
      "cell_type": "code",
      "execution_count": null,
      "metadata": {
        "deletable": false,
        "editable": false,
        "nbgrader": {
          "cell_type": "code",
          "checksum": "80561ee1993f61c5e1c1f60a99fa57c1",
          "grade": true,
          "grade_id": "cell-7e0c5a89d8adad32",
          "locked": true,
          "points": 15,
          "schema_version": 3,
          "solution": false,
          "task": false
        },
        "colab": {
          "base_uri": "https://localhost:8080/"
        },
        "id": "Ab9X0X75h7ly",
        "outputId": "f9ca86ed-cb50-42fd-c997-8eacf340a7e5"
      },
      "outputs": [
        {
          "output_type": "stream",
          "name": "stdout",
          "text": [
            "tensor([[[[ 1.0519,  1.3811],\n",
            "          [ 2.5701,  2.0508]],\n",
            "\n",
            "         [[ 1.3159,  2.4203],\n",
            "          [ 8.4296, 10.1662]]],\n",
            "\n",
            "\n",
            "        [[[ 4.4640,  5.9235],\n",
            "          [ 4.5179,  2.3144]],\n",
            "\n",
            "         [[13.1246, 15.5932],\n",
            "          [20.2635, 22.9700]]]], grad_fn=<CopySlices>)\n"
          ]
        }
      ],
      "source": [
        "# correctness checking\n",
        "torch.random.manual_seed(0)\n",
        "x = torch.arange(50).view(2,1,5,5).float()\n",
        "my_conv = Conv2D(1,2,[3,3],[3,3],[1,1,1,1], torch.device('cpu'))\n",
        "y = my_conv(x)\n",
        "print(y)\n"
      ]
    },
    {
      "cell_type": "markdown",
      "metadata": {
        "id": "-uPAJn7Uh7ly"
      },
      "source": [
        "Completely vectorizing the convolutional layer can be challenging, so we will rely on PyTorch's built-in `nn.Conv2D` module in the subsequent sections. Additionally, we will use the built-in `nn.Linear` module for linear layers."
      ]
    },
    {
      "cell_type": "markdown",
      "metadata": {
        "id": "7Y5MHNm2h7ly"
      },
      "source": [
        "### Module API: Two-Layer Network\n",
        "Here is a concrete example of a 2-layer fully connected network.\n",
        "We use `nn.init.kaiming_normal_` to initialize weights using Kaiming initialization, and `nn.init.kaiming_zeros_` to initialize biases."
      ]
    },
    {
      "cell_type": "code",
      "execution_count": null,
      "metadata": {
        "colab": {
          "base_uri": "https://localhost:8080/"
        },
        "id": "4dD2yfZGh7ly",
        "outputId": "3783bebb-345e-4d97-e87b-ad4421111779"
      },
      "outputs": [
        {
          "output_type": "stream",
          "name": "stdout",
          "text": [
            "Architecture:\n",
            "TwoLayerFC(\n",
            "  (fc1): Linear(in_features=768, out_features=42, bias=True)\n",
            "  (fc2): Linear(in_features=42, out_features=10, bias=True)\n",
            ")\n",
            "Output size: [64, 10]\n"
          ]
        }
      ],
      "source": [
        "class TwoLayerFC(nn.Module):\n",
        "  def __init__(self, input_size, hidden_size, num_classes):\n",
        "    super().__init__()\n",
        "    # assign layer objects to class attributes\n",
        "    self.fc1 = nn.Linear(input_size, hidden_size)\n",
        "    self.fc2 = nn.Linear(hidden_size, num_classes)\n",
        "    # nn.init package contains convenient initialization methods\n",
        "    # https://pytorch.org/docs/stable/nn.init.html#torch.nn.init.kaiming_normal_ \n",
        "    nn.init.kaiming_normal_(self.fc1.weight)\n",
        "    nn.init.kaiming_normal_(self.fc2.weight)\n",
        "    nn.init.zeros_(self.fc1.bias)\n",
        "    nn.init.zeros_(self.fc2.bias)\n",
        "  \n",
        "  def forward(self, x):\n",
        "    # forward always defines connectivity\n",
        "    x = flatten(x)\n",
        "    scores = self.fc2(F.relu(self.fc1(x)))\n",
        "    return scores\n",
        "\n",
        "def test_TwoLayerFC():\n",
        "  input_size = 3*16*16\n",
        "  x = torch.zeros((64, input_size), dtype=dtype)  # minibatch size 64, feature dimension 3*16*16\n",
        "  model = TwoLayerFC(input_size, 42, 10)\n",
        "  scores = model(x)\n",
        "  print('Architecture:')\n",
        "  print(model) # printing `nn.Module` shows the architecture of the module.\n",
        "  print('Output size:', list(scores.size()))  # you should see [64, 10]\n",
        "test_TwoLayerFC()"
      ]
    },
    {
      "cell_type": "markdown",
      "metadata": {
        "id": "wkPrC7d6h7ly"
      },
      "source": [
        "### Module API: Three-Layer ConvNet\n",
        "It's your turn to implement a 3-layer ConvNet followed by a fully connected layer. The network architecture should be the same as in Part II:\n",
        "\n",
        "1. Convolutional layer with `channel_1` 5x5 filters with zero-padding of 2\n",
        "2. ReLU\n",
        "3. Convolutional layer with `channel_2` 3x3 filters with zero-padding of 1\n",
        "4. ReLU\n",
        "5. Fully-connected layer to `num_classes` classes\n",
        "\n",
        "We assume that the size of the input of this network is `H = W = 32`, and there is no pooling; this information is required when computing the number of input channels in the last fully-connected layer.\n",
        "You should initialize the weight matrices of the model using Kaiming normal initialization, and zero out the bias vectors.\n",
        "\n",
        "**HINT**: [torch.nn.Conv2d](https://pytorch.org/docs/stable/generated/torch.nn.Conv2d.html#torch.nn.Conv2d), [torch.nn.init.kaiming_normal_](https://pytorch.org/docs/stable/nn.init.html#torch.nn.init.kaiming_normal_), [torch.nn.init.zeros_](https://pytorch.org/docs/stable/nn.init.html#torch.nn.init.zeros_)\n",
        "\n",
        "After you implement the three-layer ConvNet, the `test_ThreeLayerConvNet` function will run your implementation; it should print `(64, 10)` for the shape of the output scores."
      ]
    },
    {
      "cell_type": "code",
      "execution_count": null,
      "metadata": {
        "deletable": false,
        "nbgrader": {
          "cell_type": "code",
          "checksum": "8a2b44226ddf4faffa68423faa4e12b7",
          "grade": false,
          "grade_id": "cell-f4477629a406d138",
          "locked": false,
          "schema_version": 3,
          "solution": true,
          "task": false
        },
        "colab": {
          "base_uri": "https://localhost:8080/"
        },
        "id": "sUuHCJTJh7ly",
        "outputId": "0ae7eb25-3034-46ce-c205-62633fb46819"
      },
      "outputs": [
        {
          "output_type": "stream",
          "name": "stdout",
          "text": [
            "ThreeLayerConvNet(\n",
            "  (conv1): Conv2d(3, 12, kernel_size=(5, 5), stride=(1, 1), padding=(2, 2))\n",
            "  (conv2): Conv2d(12, 8, kernel_size=(3, 3), stride=(1, 1), padding=(1, 1))\n",
            "  (fc): Linear(in_features=8192, out_features=10, bias=True)\n",
            ")\n",
            "Output size: [64, 10]\n"
          ]
        }
      ],
      "source": [
        "class ThreeLayerConvNet(nn.Module):\n",
        "  def __init__(self, in_channel, channel_1, channel_2, num_classes):\n",
        "    super().__init__()\n",
        "    ########################################################################\n",
        "    # TODO: Set up the layers you need for a three-layer ConvNet with the  #\n",
        "    # architecture defined above.                                          #\n",
        "    ########################################################################\n",
        "    # Replace \"pass\" statement with your code\n",
        "    # self.conv1 = nn.Conv2d(in_channel, channel_1, kernel_size=5, padding=2, bias=True)\n",
        "    # nn.init.kaiming_normal_(self.conv1.weight)\n",
        "    # nn.init.constant_(self.conv1.bias, 0)\n",
        "        \n",
        "    # self.conv2 = nn.Conv2d(channel_1, channel_2, kernel_size=3, padding=1, bias=True)\n",
        "    # nn.init.kaiming_normal_(self.conv2.weight)\n",
        "    # nn.init.constant_(self.conv2.bias, 0)\n",
        "        \n",
        "    # self.fc = nn.Linear(channel_2*32*32, num_classes)\n",
        "    # nn.init.kaiming_normal_(self.fc.weight)\n",
        "    # nn.init.constant_(self.fc.bias, 0)\n",
        "    self.conv1 = nn.Conv2d(in_channel, channel_1, 5, padding=2)\n",
        "    self.conv2 = nn.Conv2d(channel_1, channel_2, 3, padding=1)\n",
        "    self.fc = nn.Linear(channel_2*H*W ,num_classes)\n",
        "\n",
        "    nn.init.kaiming_normal_(self.conv1.weight)\n",
        "    nn.init.kaiming_normal_(self.conv2.weight)\n",
        "    nn.init.kaiming_normal_(self.fc.weight)\n",
        "\n",
        "\n",
        "    nn.init.zeros_(self.conv1.bias)\n",
        "    nn.init.zeros_(self.conv2.bias)\n",
        "    nn.init.zeros_(self.fc.bias)\n",
        "    # END OF YOUR CODE\n",
        "\n",
        "  def forward(self, x):\n",
        "    scores = None\n",
        "    ########################################################################\n",
        "    # TODO: Implement the forward function for a 3-layer ConvNet. you      #\n",
        "    # should use the layers you defined in __init__ and specify the        #\n",
        "    # connectivity of those layers in forward()                            #\n",
        "    ########################################################################\n",
        "    # Replace \"pass\" statement with your code\n",
        "    # relu1 = F.relu(self.conv1(x))\n",
        "    # relu2 = F.relu(self.conv2(relu1))\n",
        "    # scores = self.fc(flatten(relu2))\n",
        "    T = F.relu(self.conv1(x))\n",
        "    q = F.relu(self.conv2(T))\n",
        "    q = flatten(q)\n",
        "    scores = self.fc(q)\n",
        "    # END OF YOUR CODE\n",
        "\n",
        "    return scores\n",
        "\n",
        "\n",
        "def test_ThreeLayerConvNet():\n",
        "  x = torch.zeros((64, 3, 32, 32), dtype=dtype)  # minibatch size 64, image size [3, 32, 32]\n",
        "  model = ThreeLayerConvNet(in_channel=3, channel_1=12, channel_2=8, num_classes=10)\n",
        "  scores = model(x)\n",
        "  print(model) # printing `nn.Module` shows the architecture of the module.\n",
        "  print('Output size:', list(scores.size()))  # you should see [64, 10]\n",
        "test_ThreeLayerConvNet()"
      ]
    },
    {
      "cell_type": "markdown",
      "metadata": {
        "id": "l65R6fMvh7lz"
      },
      "source": [
        "### Module API: Check Accuracy\n",
        "Given the validation or test set, we can check the classification accuracy of a neural network. \n",
        "\n",
        "This version is slightly different from the one in part II. You don't manually pass in the parameters anymore."
      ]
    },
    {
      "cell_type": "code",
      "execution_count": null,
      "metadata": {
        "id": "AozMniWyh7lz"
      },
      "outputs": [],
      "source": [
        "def check_accuracy_part34(loader, model):\n",
        "  if loader.dataset.train:\n",
        "    print('Checking accuracy on validation set')\n",
        "  else:\n",
        "    print('Checking accuracy on test set')   \n",
        "  num_correct = 0\n",
        "  num_samples = 0\n",
        "  model.eval()  # set model to evaluation mode\n",
        "  with torch.no_grad():\n",
        "    for x, y in loader:\n",
        "      x = x.to(device=device, dtype=dtype)  # move to device, e.g. GPU\n",
        "      y = y.to(device=device, dtype=ltype)\n",
        "      scores = model(x)\n",
        "      _, preds = scores.max(1)\n",
        "      num_correct += (preds == y).sum()\n",
        "      num_samples += preds.size(0)\n",
        "    acc = float(num_correct) / num_samples\n",
        "    print('Got %d / %d correct (%.2f)' % (num_correct, num_samples, 100 * acc))\n",
        "  return acc"
      ]
    },
    {
      "cell_type": "markdown",
      "metadata": {
        "id": "bo_9nmaOh7lz"
      },
      "source": [
        "### Module API: Training Loop\n",
        "We also use a slightly different training loop. Rather than updating the values of the weights ourselves, we use an Optimizer object from the `torch.optim` package, which abstract the notion of an optimization algorithm and provides implementations of most of the algorithms commonly used to optimize neural networks."
      ]
    },
    {
      "cell_type": "code",
      "execution_count": null,
      "metadata": {
        "id": "imFZCda1h7lz"
      },
      "outputs": [],
      "source": [
        "def train_part34(model, optimizer, epochs=1):\n",
        "    \"\"\"\n",
        "    Train a model on CIFAR-10 using the PyTorch Module API.\n",
        "    \n",
        "    Inputs:\n",
        "    - model: A PyTorch Module giving the model to train.\n",
        "    - optimizer: An Optimizer object we will use to train the model\n",
        "    - epochs: (Optional) A Python integer giving the number of epochs to train for\n",
        "    \n",
        "    Returns: Nothing, but prints model accuracies during training.\n",
        "    \"\"\"\n",
        "    model = model.to(device=device)  # move the model parameters to CPU/GPU\n",
        "    acc = 0\n",
        "    for e in range(epochs):\n",
        "        for t, (x, y) in enumerate(loader_train):\n",
        "            model.train()  # put model to training mode\n",
        "            x = x.to(device=device, dtype=dtype)  # move to device, e.g. GPU\n",
        "            y = y.to(device=device, dtype=torch.long)\n",
        "\n",
        "            scores = model(x)\n",
        "            loss = F.cross_entropy(scores, y)\n",
        "\n",
        "            # Zero out all of the gradients for the variables which the optimizer\n",
        "            # will update.\n",
        "            optimizer.zero_grad()\n",
        "\n",
        "            # This is the backwards pass: compute the gradient of the loss with\n",
        "            # respect to each  parameter of the model.\n",
        "            loss.backward()\n",
        "\n",
        "            # Actually update the parameters of the model using the gradients\n",
        "            # computed by the backwards pass.\n",
        "            optimizer.step()\n",
        "\n",
        "            if t % print_every == 0:\n",
        "                print('Iteration %d, loss = %.4f' % (t, loss.item()))\n",
        "                acc = check_accuracy_part34(loader_val, model)\n",
        "                print()\n",
        "    return acc"
      ]
    },
    {
      "cell_type": "markdown",
      "metadata": {
        "id": "519oveigh7lz"
      },
      "source": [
        "### Module API: Training Loop\n",
        "We also use a slightly different training loop. Rather than updating the values of the weights ourselves, we use an Optimizer object from the `torch.optim` package, which abstract the notion of an optimization algorithm and provides implementations of most of the algorithms commonly used to optimize neural networks."
      ]
    },
    {
      "cell_type": "code",
      "execution_count": null,
      "metadata": {
        "id": "TYrN_HTKh7lz"
      },
      "outputs": [],
      "source": [
        "def adjust_learning_rate(optimizer, lrd, epoch, schedule):\n",
        "  \"\"\"\n",
        "  Multiply lrd to the learning rate if epoch is in schedule\n",
        "  \n",
        "  Inputs:\n",
        "  - optimizer: An Optimizer object we will use to train the model\n",
        "  - lrd: learning rate decay; a factor multiplied at scheduled epochs\n",
        "  - epochs: the current epoch number\n",
        "  - schedule: the list of epochs that requires learning rate update\n",
        "  \n",
        "  Returns: Nothing, but learning rate might be updated\n",
        "  \"\"\"\n",
        "  if epoch in schedule:\n",
        "    for param_group in optimizer.param_groups:\n",
        "      print('lr decay from {} to {}'.format(param_group['lr'], param_group['lr'] * lrd))\n",
        "      param_group['lr'] *= lrd\n",
        "\n",
        "def train_part345(model, optimizer, epochs=1, learning_rate_decay=.1, schedule=[], verbose=True):\n",
        "  \"\"\"\n",
        "  Train a model on CIFAR-10 using the PyTorch Module API.\n",
        "  \n",
        "  Inputs:\n",
        "  - model: A PyTorch Module giving the model to train.\n",
        "  - optimizer: An Optimizer object we will use to train the model\n",
        "  - epochs: (Optional) A Python integer giving the number of epochs to train for\n",
        "  \n",
        "  Returns: Nothing, but prints model accuracies during training.\n",
        "  \"\"\"\n",
        "  model = model.to(device=device)  # move the model parameters to CPU/GPU\n",
        "  num_iters = epochs * len(loader_train)\n",
        "  if verbose:\n",
        "    num_prints = num_iters // print_every + 1\n",
        "  else:\n",
        "    num_prints = epochs\n",
        "  acc_history = torch.zeros(num_prints, dtype=torch.float)\n",
        "  iter_history = torch.zeros(num_prints, dtype=torch.long)\n",
        "  for e in range(epochs):\n",
        "    \n",
        "    adjust_learning_rate(optimizer, learning_rate_decay, e, schedule)\n",
        "    \n",
        "    for t, (x, y) in enumerate(loader_train):\n",
        "      model.train()  # put model to training mode\n",
        "      x = x.to(device=device, dtype=dtype)  # move to device, e.g. GPU\n",
        "      y = y.to(device=device, dtype=ltype)\n",
        "\n",
        "      scores = model(x)\n",
        "      loss = F.cross_entropy(scores, y)\n",
        "\n",
        "      # Zero out all of the gradients for the variables which the optimizer\n",
        "      # will update.\n",
        "      optimizer.zero_grad()\n",
        "\n",
        "      # This is the backwards pass: compute the gradient of the loss with\n",
        "      # respect to each  parameter of the model.\n",
        "      loss.backward()\n",
        "\n",
        "      # Actually update the parameters of the model using the gradients\n",
        "      # computed by the backwards pass.\n",
        "      optimizer.step()\n",
        "\n",
        "      tt = t + e * len(loader_train)\n",
        "\n",
        "      if verbose and (tt % print_every == 0 or (e == epochs-1 and t == len(loader_train)-1)):\n",
        "        print('Epoch %d, Iteration %d, loss = %.4f' % (e, tt, loss.item()))\n",
        "        acc = check_accuracy_part34(loader_val, model)\n",
        "        acc_history[tt // print_every] = acc\n",
        "        iter_history[tt // print_every] = tt\n",
        "        print()\n",
        "      elif not verbose and (t == len(loader_train)-1):\n",
        "        print('Epoch %d, Iteration %d, loss = %.4f' % (e, tt, loss.item()))\n",
        "        acc = check_accuracy_part34(loader_val, model)\n",
        "        acc_history[e] = acc\n",
        "        iter_history[e] = tt\n",
        "        print()\n",
        "  return acc_history, iter_history"
      ]
    },
    {
      "cell_type": "markdown",
      "metadata": {
        "id": "kD8ECWBgh7l0"
      },
      "source": [
        "### Module API: Train a Two-Layer Network\n",
        "Now we are ready to run the training loop. In contrast to part II, we don't explicitly allocate parameter tensors anymore.\n",
        "\n",
        "Simply pass the input size, hidden layer size, and number of classes (i.e. output size) to the constructor of `TwoLayerFC`. \n",
        "\n",
        "You also need to define an optimizer that tracks all the learnable parameters inside `TwoLayerFC`.\n",
        "\n",
        "You don't need to tune any hyperparameters, but you should see model accuracies above 40% after training for one epoch."
      ]
    },
    {
      "cell_type": "code",
      "execution_count": null,
      "metadata": {
        "colab": {
          "base_uri": "https://localhost:8080/"
        },
        "id": "0_qlreQNh7l0",
        "outputId": "8b3a7903-200b-46a4-a63f-4d67f523f937"
      },
      "outputs": [
        {
          "output_type": "stream",
          "name": "stdout",
          "text": [
            "Epoch 0, Iteration 0, loss = 3.3988\n",
            "Checking accuracy on validation set\n",
            "Got 139 / 1000 correct (13.90)\n",
            "\n",
            "Epoch 0, Iteration 100, loss = 2.9728\n",
            "Checking accuracy on validation set\n",
            "Got 328 / 1000 correct (32.80)\n",
            "\n",
            "Epoch 0, Iteration 200, loss = 2.1079\n",
            "Checking accuracy on validation set\n",
            "Got 335 / 1000 correct (33.50)\n",
            "\n",
            "Epoch 0, Iteration 300, loss = 2.1675\n",
            "Checking accuracy on validation set\n",
            "Got 432 / 1000 correct (43.20)\n",
            "\n",
            "Epoch 0, Iteration 400, loss = 1.9814\n",
            "Checking accuracy on validation set\n",
            "Got 432 / 1000 correct (43.20)\n",
            "\n",
            "Epoch 0, Iteration 500, loss = 1.7840\n",
            "Checking accuracy on validation set\n",
            "Got 444 / 1000 correct (44.40)\n",
            "\n",
            "Epoch 0, Iteration 600, loss = 2.1043\n",
            "Checking accuracy on validation set\n",
            "Got 468 / 1000 correct (46.80)\n",
            "\n",
            "Epoch 0, Iteration 700, loss = 1.6789\n",
            "Checking accuracy on validation set\n",
            "Got 473 / 1000 correct (47.30)\n",
            "\n",
            "Epoch 0, Iteration 765, loss = 1.6834\n",
            "Checking accuracy on validation set\n",
            "Got 411 / 1000 correct (41.10)\n",
            "\n"
          ]
        }
      ],
      "source": [
        "fix_random_seed(0)\n",
        "\n",
        "C, H, W = 3, 32, 32\n",
        "num_classes = 10\n",
        "\n",
        "hidden_layer_size = 4000\n",
        "learning_rate = 1e-2\n",
        "weight_decay = 1e-4\n",
        "\n",
        "model = TwoLayerFC(C*H*W, hidden_layer_size, num_classes)\n",
        "\n",
        "optimizer = optim.SGD(model.parameters(), lr=learning_rate,\n",
        "                      weight_decay=weight_decay)\n",
        "\n",
        "_ = train_part345(model, optimizer)"
      ]
    },
    {
      "cell_type": "markdown",
      "metadata": {
        "id": "4t_VH0kQh7l0"
      },
      "source": [
        "### Module API: Train a Three-Layer ConvNet\n",
        "You should now use the Module API to train a three-layer ConvNet on CIFAR. This should look very similar to training the two-layer network! You don't need to tune any hyperparameters, but you should achieve above above 45% after training for one epoch.\n",
        "\n",
        "You should train the model using stochastic gradient descent without momentum, with L2 weight decay of 1e-4."
      ]
    },
    {
      "cell_type": "code",
      "execution_count": null,
      "metadata": {
        "deletable": false,
        "nbgrader": {
          "cell_type": "code",
          "checksum": "4a4fb4a3e0e72b08855f6c70ad10a9d5",
          "grade": false,
          "grade_id": "cell-b388964559670ecd",
          "locked": false,
          "schema_version": 3,
          "solution": true,
          "task": false
        },
        "colab": {
          "base_uri": "https://localhost:8080/"
        },
        "id": "0BGrp1bgh7l0",
        "outputId": "1fbbec73-6df4-4792-c248-15ddf0178e0a"
      },
      "outputs": [
        {
          "output_type": "stream",
          "name": "stdout",
          "text": [
            "Epoch 0, Iteration 0, loss = 3.5309\n",
            "Checking accuracy on validation set\n",
            "Got 120 / 1000 correct (12.00)\n",
            "\n",
            "Epoch 0, Iteration 100, loss = 1.9059\n",
            "Checking accuracy on validation set\n",
            "Got 353 / 1000 correct (35.30)\n",
            "\n",
            "Epoch 0, Iteration 200, loss = 1.7812\n",
            "Checking accuracy on validation set\n",
            "Got 412 / 1000 correct (41.20)\n",
            "\n",
            "Epoch 0, Iteration 300, loss = 1.7484\n",
            "Checking accuracy on validation set\n",
            "Got 460 / 1000 correct (46.00)\n",
            "\n",
            "Epoch 0, Iteration 400, loss = 1.3958\n",
            "Checking accuracy on validation set\n",
            "Got 456 / 1000 correct (45.60)\n",
            "\n",
            "Epoch 0, Iteration 500, loss = 1.6607\n",
            "Checking accuracy on validation set\n",
            "Got 480 / 1000 correct (48.00)\n",
            "\n",
            "Epoch 0, Iteration 600, loss = 1.3302\n",
            "Checking accuracy on validation set\n",
            "Got 489 / 1000 correct (48.90)\n",
            "\n",
            "Epoch 0, Iteration 700, loss = 1.6021\n",
            "Checking accuracy on validation set\n",
            "Got 506 / 1000 correct (50.60)\n",
            "\n",
            "Epoch 0, Iteration 765, loss = 1.5538\n",
            "Checking accuracy on validation set\n",
            "Got 499 / 1000 correct (49.90)\n",
            "\n"
          ]
        }
      ],
      "source": [
        "fix_random_seed(0)\n",
        "\n",
        "C = 3\n",
        "num_classes = 10\n",
        "\n",
        "channel_1 = 32\n",
        "channel_2 = 16\n",
        "\n",
        "learning_rate = 3e-3\n",
        "weight_decay = 1e-4\n",
        "\n",
        "model = None\n",
        "optimizer = None\n",
        "################################################################################\n",
        "# TODO: Instantiate your ThreeLayerConvNet model and a corresponding optimizer.#\n",
        "################################################################################\n",
        "# Replace \"pass\" statement with your code\n",
        "# model = ThreeLayerConvNet(3, channel_1, channel_2, 10)\n",
        "# optimizer = optim.SGD(model.parameters(), lr=learning_rate)\n",
        "model = ThreeLayerConvNet(C, channel_1, channel_2, num_classes)\n",
        "optimizer = optim.SGD(model.parameters(), lr=learning_rate, weight_decay=weight_decay)\n",
        "# END OF YOUR CODE\n",
        "\n",
        "three_layer_conv_acc_history, _ = train_part345(model, optimizer)"
      ]
    },
    {
      "cell_type": "code",
      "execution_count": null,
      "metadata": {
        "deletable": false,
        "editable": false,
        "nbgrader": {
          "cell_type": "code",
          "checksum": "fc8f3364f0e63ea420f70b9dfe0bc2e0",
          "grade": true,
          "grade_id": "cell-1352d9b6d0a209c3",
          "locked": true,
          "points": 10,
          "schema_version": 3,
          "solution": false,
          "task": false
        },
        "id": "ciw0gfmVh7l1"
      },
      "outputs": [],
      "source": [
        "# Test Cell - DO NOT DELETE\n"
      ]
    },
    {
      "cell_type": "markdown",
      "metadata": {
        "id": "YaPLLUTAh7l1"
      },
      "source": [
        "# Part IV. PyTorch Sequential API\n",
        "\n",
        "Part III introduced the PyTorch Module API, which allows you to define arbitrary learnable layers and their connectivity. \n",
        "\n",
        "For simple models like a stack of feed forward layers, you still need to go through 3 steps: subclass `nn.Module`, assign layers to class attributes in `__init__`, and call each layer one by one in `forward()`. Is there a more convenient way? \n",
        "\n",
        "Fortunately, PyTorch provides a container Module called `nn.Sequential`, which merges the above steps into one. It is not as flexible as `nn.Module`, because you cannot specify more complex topology than a feed-forward stack, but it's good enough for many use cases.\n",
        "\n",
        "Before we start, We need to wrap `flatten` function in a module in order to stack it in `nn.Sequential`.\n",
        "As of 1.3.0, PyTorch supports `nn.Flatten`, so this is not required in the latest version.\n",
        "However, let's use the following `Flatten` class for backward compatibility for now."
      ]
    },
    {
      "cell_type": "code",
      "execution_count": null,
      "metadata": {
        "id": "5x5vwVkjh7l1"
      },
      "outputs": [],
      "source": [
        "class Flatten(nn.Module):\n",
        "  def forward(self, x):\n",
        "    return flatten(x)"
      ]
    },
    {
      "cell_type": "markdown",
      "metadata": {
        "id": "xBQLF5mRh7l1"
      },
      "source": [
        "### Sequential API: Two-Layer Network\n",
        "Let's see how to rewrite our two-layer fully connected network example with `nn.Sequential`, and train it using the training loop defined above.\n",
        "Here, let's skip weight initialization for simplicity;\n",
        "with a more advanced optimizer than the naive SGD, the default initialization provided in `torch.nn` is good enough for shallow networks.\n",
        "\n",
        "Again, you don't need to tune any hyperparameters here, but you should achieve above 40% accuracy after one epoch of training."
      ]
    },
    {
      "cell_type": "code",
      "execution_count": null,
      "metadata": {
        "colab": {
          "base_uri": "https://localhost:8080/"
        },
        "id": "61_xXQ4Wh7l1",
        "outputId": "9319ca48-3b9c-419e-feba-4f2a8ec78fec"
      },
      "outputs": [
        {
          "output_type": "stream",
          "name": "stdout",
          "text": [
            "Architecture:\n",
            "Sequential(\n",
            "  (flatten): Flatten()\n",
            "  (fc1): Linear(in_features=3072, out_features=4000, bias=True)\n",
            "  (relu1): ReLU()\n",
            "  (fc2): Linear(in_features=4000, out_features=10, bias=True)\n",
            ")\n",
            "Epoch 0, Iteration 0, loss = 2.3772\n",
            "Checking accuracy on validation set\n",
            "Got 137 / 1000 correct (13.70)\n",
            "\n",
            "Epoch 0, Iteration 100, loss = 1.7475\n",
            "Checking accuracy on validation set\n",
            "Got 394 / 1000 correct (39.40)\n",
            "\n",
            "Epoch 0, Iteration 200, loss = 1.7000\n",
            "Checking accuracy on validation set\n",
            "Got 408 / 1000 correct (40.80)\n",
            "\n",
            "Epoch 0, Iteration 300, loss = 1.6135\n",
            "Checking accuracy on validation set\n",
            "Got 442 / 1000 correct (44.20)\n",
            "\n",
            "Epoch 0, Iteration 400, loss = 1.6342\n",
            "Checking accuracy on validation set\n",
            "Got 455 / 1000 correct (45.50)\n",
            "\n",
            "Epoch 0, Iteration 500, loss = 1.5454\n",
            "Checking accuracy on validation set\n",
            "Got 458 / 1000 correct (45.80)\n",
            "\n",
            "Epoch 0, Iteration 600, loss = 1.4810\n",
            "Checking accuracy on validation set\n",
            "Got 472 / 1000 correct (47.20)\n",
            "\n",
            "Epoch 0, Iteration 700, loss = 1.6594\n",
            "Checking accuracy on validation set\n",
            "Got 451 / 1000 correct (45.10)\n",
            "\n",
            "Epoch 0, Iteration 765, loss = 1.2963\n",
            "Checking accuracy on validation set\n",
            "Got 456 / 1000 correct (45.60)\n",
            "\n"
          ]
        }
      ],
      "source": [
        "fix_random_seed(0)\n",
        "\n",
        "C, H, W = 3, 32, 32\n",
        "num_classes = 10\n",
        "\n",
        "hidden_layer_size = 4000\n",
        "learning_rate = 1e-2\n",
        "momentum = 0.5\n",
        "\n",
        "# To give a specific name to each module, use OrderedDict.\n",
        "model = nn.Sequential(OrderedDict([\n",
        "  ('flatten', Flatten()),\n",
        "  ('fc1', nn.Linear(C*H*W, hidden_layer_size)),\n",
        "  ('relu1', nn.ReLU()),\n",
        "  ('fc2', nn.Linear(hidden_layer_size, num_classes)),\n",
        "]))\n",
        "\n",
        "print('Architecture:')\n",
        "print(model) # printing `nn.Module` shows the architecture of the module.\n",
        "\n",
        "# you can use Nesterov momentum in optim.SGD\n",
        "optimizer = optim.SGD(model.parameters(), lr=learning_rate, \n",
        "                      weight_decay=weight_decay,\n",
        "                      momentum=momentum, nesterov=True)\n",
        "\n",
        "_ = train_part345(model, optimizer)"
      ]
    },
    {
      "cell_type": "markdown",
      "metadata": {
        "id": "n9FzH3LYh7l1"
      },
      "source": [
        "### Sequential API: Three-Layer ConvNet\n",
        "Here you should use `nn.Sequential` to define and train a three-layer ConvNet with the same architecture we used in Part III:\n",
        "\n",
        "1. Convolutional layer (with bias) with 32 5x5 filters, with zero-padding of 2\n",
        "2. ReLU\n",
        "3. Convolutional layer (with bias) with 16 3x3 filters, with zero-padding of 1\n",
        "4. ReLU\n",
        "5. Fully-connected layer (with bias) to compute scores for 10 classes\n",
        "\n",
        "You don't have to re-initialize your weight matrices and bias vectors.\n",
        "\n",
        "You should optimize your model using stochastic gradient descent with Nesterov momentum 0.5, with L2 weight decay of 1e-4..\n",
        "\n",
        "Again, you don't need to tune any hyperparameters but you should see accuracy above 50% after one epoch of training."
      ]
    },
    {
      "cell_type": "code",
      "execution_count": null,
      "metadata": {
        "deletable": false,
        "nbgrader": {
          "cell_type": "code",
          "checksum": "f7118dfab20d8f9b9dbd799bd40d44aa",
          "grade": false,
          "grade_id": "cell-4c3fae09b0a67a78",
          "locked": false,
          "schema_version": 3,
          "solution": true,
          "task": false
        },
        "colab": {
          "base_uri": "https://localhost:8080/"
        },
        "id": "3QQ01Q3hh7l1",
        "outputId": "46e4198d-c0fc-4968-8a6a-7d8629a4c66a"
      },
      "outputs": [
        {
          "output_type": "stream",
          "name": "stdout",
          "text": [
            "Architecture:\n",
            "Sequential(\n",
            "  (conv1): Conv2d(3, 32, kernel_size=(5, 5), stride=(1, 1), padding=(2, 2))\n",
            "  (relu1): ReLU()\n",
            "  (conv2): Conv2d(32, 16, kernel_size=(3, 3), stride=(1, 1), padding=(1, 1))\n",
            "  (relu2): ReLU()\n",
            "  (flatten): Flatten()\n",
            "  (fc): Linear(in_features=16384, out_features=10, bias=True)\n",
            ")\n",
            "Epoch 0, Iteration 0, loss = 2.2960\n",
            "Checking accuracy on validation set\n",
            "Got 136 / 1000 correct (13.60)\n",
            "\n",
            "Epoch 0, Iteration 100, loss = 1.6666\n",
            "Checking accuracy on validation set\n",
            "Got 382 / 1000 correct (38.20)\n",
            "\n",
            "Epoch 0, Iteration 200, loss = 1.4593\n",
            "Checking accuracy on validation set\n",
            "Got 479 / 1000 correct (47.90)\n",
            "\n",
            "Epoch 0, Iteration 300, loss = 1.7127\n",
            "Checking accuracy on validation set\n",
            "Got 483 / 1000 correct (48.30)\n",
            "\n",
            "Epoch 0, Iteration 400, loss = 1.6090\n",
            "Checking accuracy on validation set\n",
            "Got 489 / 1000 correct (48.90)\n",
            "\n",
            "Epoch 0, Iteration 500, loss = 1.4310\n",
            "Checking accuracy on validation set\n",
            "Got 499 / 1000 correct (49.90)\n",
            "\n",
            "Epoch 0, Iteration 600, loss = 1.5034\n",
            "Checking accuracy on validation set\n",
            "Got 544 / 1000 correct (54.40)\n",
            "\n",
            "Epoch 0, Iteration 700, loss = 1.3414\n",
            "Checking accuracy on validation set\n",
            "Got 542 / 1000 correct (54.20)\n",
            "\n",
            "Epoch 0, Iteration 765, loss = 1.3166\n",
            "Checking accuracy on validation set\n",
            "Got 534 / 1000 correct (53.40)\n",
            "\n"
          ]
        }
      ],
      "source": [
        "fix_random_seed(0)\n",
        "\n",
        "C, H, W = 3, 32, 32\n",
        "num_classes = 10\n",
        "\n",
        "channel_1 = 32\n",
        "channel_2 = 16\n",
        "kernel_size_1 = 5\n",
        "pad_size_1 = 2\n",
        "kernel_size_2 = 3\n",
        "pad_size_2 = 1\n",
        "\n",
        "learning_rate = 1e-2\n",
        "momentum = 0.5\n",
        "\n",
        "model = None\n",
        "optimizer = None\n",
        "################################################################################\n",
        "# TODO: Rewrite the 3-layer ConvNet with bias from Part III with the           #\n",
        "# Sequential API.                                                              #\n",
        "################################################################################\n",
        "# Replace \"pass\" statement with your code\n",
        "# model = nn.Sequential(\n",
        "#     nn.Conv2d(3, channel_1, kernel_size=5, padding=2),\n",
        "#     nn.ReLU(),\n",
        "#     nn.Conv2d(channel_1, channel_2, kernel_size=3, padding=1),\n",
        "#     nn.ReLU(),\n",
        "#     Flatten(),\n",
        "#     nn.Linear(channel_2*32*32, 10),\n",
        "# )\n",
        "model = nn.Sequential(OrderedDict([\n",
        "  ('conv1', nn.Conv2d(C, channel_1, kernel_size_1, padding=pad_size_1)),\n",
        "  ('relu1', nn.ReLU()),\n",
        "  ('conv2', nn.Conv2d(channel_1, channel_2, kernel_size_2, padding=pad_size_2)),\n",
        "  ('relu2', nn.ReLU()),\n",
        "  ('flatten', Flatten()),\n",
        "  ('fc', nn.Linear(channel_2*H*W, num_classes)),\n",
        "]))\n",
        "optimizer = optim.SGD(model.parameters(), lr=learning_rate, weight_decay=weight_decay,  momentum=momentum, nesterov=True)\n",
        "# END OF YOUR CODE\n",
        "print('Architecture:')\n",
        "print(model) # printing `nn.Module` shows the architecture of the module.\n",
        "\n",
        "three_layer_conv_seq_acc_history, _ = train_part345(model, optimizer)"
      ]
    },
    {
      "cell_type": "code",
      "execution_count": null,
      "metadata": {
        "deletable": false,
        "editable": false,
        "nbgrader": {
          "cell_type": "code",
          "checksum": "f466e0c3852905eea4ebc09d22326972",
          "grade": true,
          "grade_id": "cell-f1bd3b058fe65846",
          "locked": true,
          "points": 15,
          "schema_version": 3,
          "solution": false,
          "task": false
        },
        "id": "BUE3n1gih7l2"
      },
      "outputs": [],
      "source": [
        "# Test Cell - DO NOT DELETE\n"
      ]
    },
    {
      "cell_type": "markdown",
      "metadata": {
        "id": "kZSbjMuUh7l2"
      },
      "source": [
        "# Part V. CIFAR-10 open-ended challenge\n",
        "\n",
        "In this section, you can experiment with whatever ConvNet architecture you'd like on CIFAR-10. \n",
        "\n",
        "Now it's your job to experiment with architectures, hyperparameters, loss functions, and optimizers to train a model that achieves **at least 70%** accuracy on the CIFAR-10 **validation** set within 10 epochs. You can use the check_accuracy and train functions from above. You can use either `nn.Module` or `nn.Sequential` API. \n",
        "\n",
        "Describe what you did at the end of this notebook.\n",
        "\n",
        "Here are the official API documentation for each component. One note: what we call in the class \"spatial batch norm\" is called \"BatchNorm2D\" in PyTorch.\n",
        "\n",
        "* Layers in torch.nn package: http://pytorch.org/docs/stable/nn.html\n",
        "* Activations: https://pytorch.org/docs/stable/nn.html#non-linear-activations-weighted-sum-nonlinearity\n",
        "* Loss functions: http://pytorch.org/docs/stable/nn.html#loss-functions\n",
        "* Optimizers: http://pytorch.org/docs/stable/optim.html\n",
        "\n",
        "\n",
        "### Things you might try:\n",
        "- **Filter size**: Above we used 5x5; would smaller filters be more efficient?\n",
        "- **Number of filters**: Above we used 32 filters. Do more or fewer do better?\n",
        "- **Pooling vs Strided Convolution**: Do you use max pooling or just stride convolutions?\n",
        "- **Batch normalization**: Try adding spatial batch normalization after convolution layers and vanilla batch normalization after affine layers. Do your networks train faster? See https://pytorch.org/docs/stable/generated/torch.nn.BatchNorm2d.html\n",
        "- **Network architecture**: The network above has two layers of trainable parameters. Can you do better with a deep network? Good architectures to try include:\n",
        "    - [conv-relu-pool]xN -> [affine]xM -> [softmax]\n",
        "    - [conv-relu-conv-relu-pool]xN -> [affine]xM -> [softmax]\n",
        "    - [batchnorm-relu-conv]xN -> [affine]xM -> [softmax]\n",
        "- **Global Average Pooling**: Instead of flattening and then having multiple affine layers, perform convolutions until your image gets small (7x7 or so) and then perform an average pooling operation to get to a 1x1 image picture (1, 1 , Filter#), which is then reshaped into a (Filter#) vector. This is used in [Google's Inception Network](https://arxiv.org/abs/1512.00567) (See Table 1 for their architecture).\n",
        "- **Regularization**: Add l2 weight regularization, or perhaps use Dropout.\n",
        "\n",
        "### Tips for training\n",
        "For each network architecture that you try, you should tune the learning rate and other hyperparameters. When doing this there are a couple important things to keep in mind:\n",
        "\n",
        "- If the parameters are working well, you should see improvement within a few hundred iterations\n",
        "- Remember the coarse-to-fine approach for hyperparameter tuning: start by testing a large range of hyperparameters for just a few training iterations to find the combinations of parameters that are working at all.\n",
        "- Once you have found some sets of parameters that seem to work, search more finely around these parameters. You may need to train for more epochs.\n",
        "- You should use the validation set for hyperparameter search, and save your test set for evaluating your architecture on the best parameters as selected by the validation set.\n",
        "\n",
        "### Going above and beyond\n",
        "If you are feeling adventurous there are many other features you can implement to try and improve your performance. You are **not required** to implement any of these, but don't miss the fun if you have time!\n",
        "\n",
        "- Alternative optimizers: you can try Adam, Adagrad, RMSprop, etc.\n",
        "- Alternative activation functions such as leaky ReLU, parametric ReLU, ELU, or MaxOut.\n",
        "- Model ensembles\n",
        "- Data augmentation\n",
        "- New Architectures\n",
        "  - [ResNets](https://arxiv.org/abs/1512.03385) where the input from the previous layer is added to the output.\n",
        "  - [DenseNets](https://arxiv.org/abs/1608.06993) where inputs into previous layers are concatenated together.\n",
        "  - [This blog has an in-depth overview, although the code uses Tensorflow](https://chatbotslife.com/resnets-highwaynets-and-densenets-oh-my-9bb15918ee32)\n",
        "\n",
        "### Have fun and happy training! "
      ]
    },
    {
      "cell_type": "code",
      "execution_count": null,
      "metadata": {
        "deletable": false,
        "nbgrader": {
          "cell_type": "code",
          "checksum": "988f80fbef31a8f61c9146d06613b54c",
          "grade": false,
          "grade_id": "cell-f4be443647a37e19",
          "locked": false,
          "schema_version": 3,
          "solution": true,
          "task": false
        },
        "colab": {
          "base_uri": "https://localhost:8080/"
        },
        "id": "ZJoZL1ZMh7l2",
        "outputId": "7d764862-ac6d-4f26-9854-13e192389dc3"
      },
      "outputs": [
        {
          "output_type": "stream",
          "name": "stdout",
          "text": [
            "Iteration 0, loss = 2.4347\n",
            "Checking accuracy on validation set\n",
            "Got 120 / 1000 correct (12.00)\n",
            "\n",
            "Iteration 0, loss = 1.1903\n",
            "Checking accuracy on validation set\n",
            "Got 562 / 1000 correct (56.20)\n",
            "\n",
            "Iteration 0, loss = 0.9249\n",
            "Checking accuracy on validation set\n",
            "Got 612 / 1000 correct (61.20)\n",
            "\n",
            "Iteration 0, loss = 0.7401\n",
            "Checking accuracy on validation set\n",
            "Got 647 / 1000 correct (64.70)\n",
            "\n",
            "Iteration 0, loss = 1.1208\n",
            "Checking accuracy on validation set\n",
            "Got 661 / 1000 correct (66.10)\n",
            "\n",
            "Iteration 0, loss = 0.9302\n",
            "Checking accuracy on validation set\n",
            "Got 671 / 1000 correct (67.10)\n",
            "\n",
            "Iteration 0, loss = 0.7507\n",
            "Checking accuracy on validation set\n",
            "Got 668 / 1000 correct (66.80)\n",
            "\n",
            "Iteration 0, loss = 0.7304\n",
            "Checking accuracy on validation set\n",
            "Got 687 / 1000 correct (68.70)\n",
            "\n",
            "Iteration 0, loss = 0.6685\n",
            "Checking accuracy on validation set\n",
            "Got 697 / 1000 correct (69.70)\n",
            "\n",
            "Iteration 0, loss = 0.8429\n",
            "Checking accuracy on validation set\n",
            "Got 707 / 1000 correct (70.70)\n",
            "\n"
          ]
        },
        {
          "output_type": "execute_result",
          "data": {
            "text/plain": [
              "0.707"
            ]
          },
          "metadata": {},
          "execution_count": 32
        }
      ],
      "source": [
        "model = None\n",
        "optimizer = None\n",
        "\n",
        "################################################################################\n",
        "# TODO:                                                                        #         \n",
        "# Experiment with any architectures, optimizers, and hyperparameters.          #\n",
        "# Achieve AT LEAST 70% accuracy on the *validation set* within 10 epochs.      #\n",
        "#                                                                              #\n",
        "# Note that you can use the check_accuracy function to evaluate on either      #\n",
        "# the test set or the validation set, by passing either loader_test or         #\n",
        "# loader_val as the second argument to check_accuracy. You should not touch    #\n",
        "# the test set until you have finished your architecture and  hyperparameter   #\n",
        "# tuning, and only run the test set once at the end to report a final value.   #\n",
        "################################################################################\n",
        "# Replace \"pass\" statement with your code\n",
        "# A 4-layer convolutional network\n",
        "# (conv -> batchnorm -> relu -> maxpool) * 3 -> fc\n",
        "momentum=0.8 #Taken from earlier in the code, where momentum was put to 0.5, but I changed using different values and saw this worked best\n",
        "L_a = nn.Sequential(nn.Conv2d(3, 16, kernel_size=3, padding=2), nn.BatchNorm2d(16), nn.ReLU(), nn.MaxPool2d(2))\n",
        "\n",
        "L_b = nn.Sequential(nn.Conv2d(16, 32, kernel_size=6, padding=1), nn.BatchNorm2d(32), nn.ReLU(), nn.MaxPool2d(2))\n",
        "\n",
        "L_c = nn.Sequential(nn.Conv2d(32, 64, kernel_size=4, padding=2), nn.BatchNorm2d(64), nn.ReLU(), nn.MaxPool2d(2))\n",
        "\n",
        "conv_fc = nn.Linear(64*4*4, 10)\n",
        "\n",
        "model = nn.Sequential(\n",
        "    L_a,\n",
        "    L_b,  \n",
        "    L_c,\n",
        "    Flatten(),\n",
        "    conv_fc\n",
        ")\n",
        "learning_rate = 1e-3  #Keeping this as it is\n",
        "\n",
        "#optimizer = optim.Adam(model.parameters(), lr=learning_rate)\n",
        "optimizer = optim.SGD(model.parameters(), lr=learning_rate, \n",
        "                      weight_decay=1e-4,\n",
        "                      momentum=momentum)\n",
        "\n",
        "\n",
        "\n",
        "# Print training status every epoch: set print_every to a large number\n",
        "print_every = 10000\n",
        "\n",
        "# END OF YOUR CODE\n",
        "\n",
        "# You should get at least 70% accuracy\n",
        "train_part34(model, optimizer, epochs=10)"
      ]
    },
    {
      "cell_type": "markdown",
      "source": [],
      "metadata": {
        "id": "Us2N5dDlNg0R"
      }
    },
    {
      "cell_type": "markdown",
      "metadata": {
        "id": "6TQoYIZ2h7l2"
      },
      "source": [
        "## Describe what you did \n",
        "\n",
        "In the cell below you should write an explanation of what you did, any additional features that you implemented, and/or any graphs that you made in the process of training and evaluating your network."
      ]
    },
    {
      "cell_type": "markdown",
      "metadata": {
        "id": "2EuaJsc0h7l2"
      },
      "source": [
        "TODO: Describe what you did\n",
        "\n",
        "I just applied what was said in the comment above of part 5. I tested different things such as using Max pool vs Strided convolutions, I decided to go to SGD as my optimizer because I wanted to be able to add weight decays like it was done before. I played around with different Kernel and Padding sizes, making sure they work with correct multiplication dimensions. Another thing I used that was used earlier in the assingmnent was the addition of the momentum, which is used in SGD. Other than that, I did not have time to focus on other things such as using Adam or Adagrad as an optimizier, or even implementing alternative activation functions, I kept things fairly straighforward and simple, and it passed the 70% mark needed. "
      ]
    },
    {
      "cell_type": "markdown",
      "metadata": {
        "id": "--Au-xrLh7l2"
      },
      "source": [
        "## Test set -- run this only once\n",
        "\n",
        "Now that we've gotten a result we're happy with, we test our final model on the test set (which you should store in best_model). Think about how this compares to your validation set accuracy."
      ]
    },
    {
      "cell_type": "code",
      "execution_count": null,
      "metadata": {
        "deletable": false,
        "editable": false,
        "nbgrader": {
          "cell_type": "code",
          "checksum": "2a0a02be19aa6bba679d3f4d1d0e1962",
          "grade": true,
          "grade_id": "cell-36912e7316f9229c",
          "locked": true,
          "points": 25,
          "schema_version": 3,
          "solution": false,
          "task": false
        },
        "colab": {
          "base_uri": "https://localhost:8080/"
        },
        "id": "uHvR71fzh7l2",
        "outputId": "27915bcc-de9a-4c84-bde5-ac3ce6ed4ae2"
      },
      "outputs": [
        {
          "output_type": "stream",
          "name": "stdout",
          "text": [
            "Checking accuracy on test set\n",
            "Got 7102 / 10000 correct (71.02)\n"
          ]
        }
      ],
      "source": [
        "best_model = model\n",
        "acc_final = check_accuracy_part34(loader_test, best_model)\n"
      ]
    }
  ],
  "metadata": {
    "kernelspec": {
      "display_name": "Python 3",
      "language": "python",
      "name": "python3"
    },
    "language_info": {
      "codemirror_mode": {
        "name": "ipython",
        "version": 3
      },
      "file_extension": ".py",
      "mimetype": "text/x-python",
      "name": "python",
      "nbconvert_exporter": "python",
      "pygments_lexer": "ipython3",
      "version": "3.7.9"
    },
    "colab": {
      "provenance": []
    },
    "accelerator": "GPU",
    "widgets": {
      "application/vnd.jupyter.widget-state+json": {
        "d64a82045f144a4ab2b1b6e46b8fbdbf": {
          "model_module": "@jupyter-widgets/controls",
          "model_name": "HBoxModel",
          "model_module_version": "1.5.0",
          "state": {
            "_view_name": "HBoxView",
            "_dom_classes": [],
            "_model_name": "HBoxModel",
            "_view_module": "@jupyter-widgets/controls",
            "_model_module_version": "1.5.0",
            "_view_count": null,
            "_view_module_version": "1.5.0",
            "box_style": "",
            "layout": "IPY_MODEL_b7e1861b480e4a39a4288a2dc601a051",
            "_model_module": "@jupyter-widgets/controls",
            "children": [
              "IPY_MODEL_d5ff3f05e46f42e28cb7aea2dcbb9c89",
              "IPY_MODEL_f2fd7ebb10844383b6c6b493d8fd196c",
              "IPY_MODEL_343eba7de2b74c098a67ba7b390517fd"
            ]
          }
        },
        "b7e1861b480e4a39a4288a2dc601a051": {
          "model_module": "@jupyter-widgets/base",
          "model_name": "LayoutModel",
          "model_module_version": "1.2.0",
          "state": {
            "_view_name": "LayoutView",
            "grid_template_rows": null,
            "right": null,
            "justify_content": null,
            "_view_module": "@jupyter-widgets/base",
            "overflow": null,
            "_model_module_version": "1.2.0",
            "_view_count": null,
            "flex_flow": null,
            "width": null,
            "min_width": null,
            "border": null,
            "align_items": null,
            "bottom": null,
            "_model_module": "@jupyter-widgets/base",
            "top": null,
            "grid_column": null,
            "overflow_y": null,
            "overflow_x": null,
            "grid_auto_flow": null,
            "grid_area": null,
            "grid_template_columns": null,
            "flex": null,
            "_model_name": "LayoutModel",
            "justify_items": null,
            "grid_row": null,
            "max_height": null,
            "align_content": null,
            "visibility": null,
            "align_self": null,
            "height": null,
            "min_height": null,
            "padding": null,
            "grid_auto_rows": null,
            "grid_gap": null,
            "max_width": null,
            "order": null,
            "_view_module_version": "1.2.0",
            "grid_template_areas": null,
            "object_position": null,
            "object_fit": null,
            "grid_auto_columns": null,
            "margin": null,
            "display": null,
            "left": null
          }
        },
        "d5ff3f05e46f42e28cb7aea2dcbb9c89": {
          "model_module": "@jupyter-widgets/controls",
          "model_name": "HTMLModel",
          "model_module_version": "1.5.0",
          "state": {
            "_view_name": "HTMLView",
            "style": "IPY_MODEL_2fa321b1326548c28c8194238912baa9",
            "_dom_classes": [],
            "description": "",
            "_model_name": "HTMLModel",
            "placeholder": "​",
            "_view_module": "@jupyter-widgets/controls",
            "_model_module_version": "1.5.0",
            "value": "",
            "_view_count": null,
            "_view_module_version": "1.5.0",
            "description_tooltip": null,
            "_model_module": "@jupyter-widgets/controls",
            "layout": "IPY_MODEL_e110c97c5e694129a39a3970e976bc8a"
          }
        },
        "f2fd7ebb10844383b6c6b493d8fd196c": {
          "model_module": "@jupyter-widgets/controls",
          "model_name": "FloatProgressModel",
          "model_module_version": "1.5.0",
          "state": {
            "_view_name": "ProgressView",
            "style": "IPY_MODEL_16f66579581e4aff828769bce8059c90",
            "_dom_classes": [],
            "description": "",
            "_model_name": "FloatProgressModel",
            "bar_style": "success",
            "max": 170498071,
            "_view_module": "@jupyter-widgets/controls",
            "_model_module_version": "1.5.0",
            "value": 170498071,
            "_view_count": null,
            "_view_module_version": "1.5.0",
            "orientation": "horizontal",
            "min": 0,
            "description_tooltip": null,
            "_model_module": "@jupyter-widgets/controls",
            "layout": "IPY_MODEL_205c47db671b45c0b7729e589914f4b8"
          }
        },
        "343eba7de2b74c098a67ba7b390517fd": {
          "model_module": "@jupyter-widgets/controls",
          "model_name": "HTMLModel",
          "model_module_version": "1.5.0",
          "state": {
            "_view_name": "HTMLView",
            "style": "IPY_MODEL_4be6ccc4c13c4417964daf79bbb5336b",
            "_dom_classes": [],
            "description": "",
            "_model_name": "HTMLModel",
            "placeholder": "​",
            "_view_module": "@jupyter-widgets/controls",
            "_model_module_version": "1.5.0",
            "value": " 170499072/? [00:05&lt;00:00, 22513585.91it/s]",
            "_view_count": null,
            "_view_module_version": "1.5.0",
            "description_tooltip": null,
            "_model_module": "@jupyter-widgets/controls",
            "layout": "IPY_MODEL_541b118fef56467782e9dcfcfa7c7f19"
          }
        },
        "2fa321b1326548c28c8194238912baa9": {
          "model_module": "@jupyter-widgets/controls",
          "model_name": "DescriptionStyleModel",
          "model_module_version": "1.5.0",
          "state": {
            "_view_name": "StyleView",
            "_model_name": "DescriptionStyleModel",
            "description_width": "",
            "_view_module": "@jupyter-widgets/base",
            "_model_module_version": "1.5.0",
            "_view_count": null,
            "_view_module_version": "1.2.0",
            "_model_module": "@jupyter-widgets/controls"
          }
        },
        "e110c97c5e694129a39a3970e976bc8a": {
          "model_module": "@jupyter-widgets/base",
          "model_name": "LayoutModel",
          "model_module_version": "1.2.0",
          "state": {
            "_view_name": "LayoutView",
            "grid_template_rows": null,
            "right": null,
            "justify_content": null,
            "_view_module": "@jupyter-widgets/base",
            "overflow": null,
            "_model_module_version": "1.2.0",
            "_view_count": null,
            "flex_flow": null,
            "width": null,
            "min_width": null,
            "border": null,
            "align_items": null,
            "bottom": null,
            "_model_module": "@jupyter-widgets/base",
            "top": null,
            "grid_column": null,
            "overflow_y": null,
            "overflow_x": null,
            "grid_auto_flow": null,
            "grid_area": null,
            "grid_template_columns": null,
            "flex": null,
            "_model_name": "LayoutModel",
            "justify_items": null,
            "grid_row": null,
            "max_height": null,
            "align_content": null,
            "visibility": null,
            "align_self": null,
            "height": null,
            "min_height": null,
            "padding": null,
            "grid_auto_rows": null,
            "grid_gap": null,
            "max_width": null,
            "order": null,
            "_view_module_version": "1.2.0",
            "grid_template_areas": null,
            "object_position": null,
            "object_fit": null,
            "grid_auto_columns": null,
            "margin": null,
            "display": null,
            "left": null
          }
        },
        "16f66579581e4aff828769bce8059c90": {
          "model_module": "@jupyter-widgets/controls",
          "model_name": "ProgressStyleModel",
          "model_module_version": "1.5.0",
          "state": {
            "_view_name": "StyleView",
            "_model_name": "ProgressStyleModel",
            "description_width": "",
            "_view_module": "@jupyter-widgets/base",
            "_model_module_version": "1.5.0",
            "_view_count": null,
            "_view_module_version": "1.2.0",
            "bar_color": null,
            "_model_module": "@jupyter-widgets/controls"
          }
        },
        "205c47db671b45c0b7729e589914f4b8": {
          "model_module": "@jupyter-widgets/base",
          "model_name": "LayoutModel",
          "model_module_version": "1.2.0",
          "state": {
            "_view_name": "LayoutView",
            "grid_template_rows": null,
            "right": null,
            "justify_content": null,
            "_view_module": "@jupyter-widgets/base",
            "overflow": null,
            "_model_module_version": "1.2.0",
            "_view_count": null,
            "flex_flow": null,
            "width": null,
            "min_width": null,
            "border": null,
            "align_items": null,
            "bottom": null,
            "_model_module": "@jupyter-widgets/base",
            "top": null,
            "grid_column": null,
            "overflow_y": null,
            "overflow_x": null,
            "grid_auto_flow": null,
            "grid_area": null,
            "grid_template_columns": null,
            "flex": null,
            "_model_name": "LayoutModel",
            "justify_items": null,
            "grid_row": null,
            "max_height": null,
            "align_content": null,
            "visibility": null,
            "align_self": null,
            "height": null,
            "min_height": null,
            "padding": null,
            "grid_auto_rows": null,
            "grid_gap": null,
            "max_width": null,
            "order": null,
            "_view_module_version": "1.2.0",
            "grid_template_areas": null,
            "object_position": null,
            "object_fit": null,
            "grid_auto_columns": null,
            "margin": null,
            "display": null,
            "left": null
          }
        },
        "4be6ccc4c13c4417964daf79bbb5336b": {
          "model_module": "@jupyter-widgets/controls",
          "model_name": "DescriptionStyleModel",
          "model_module_version": "1.5.0",
          "state": {
            "_view_name": "StyleView",
            "_model_name": "DescriptionStyleModel",
            "description_width": "",
            "_view_module": "@jupyter-widgets/base",
            "_model_module_version": "1.5.0",
            "_view_count": null,
            "_view_module_version": "1.2.0",
            "_model_module": "@jupyter-widgets/controls"
          }
        },
        "541b118fef56467782e9dcfcfa7c7f19": {
          "model_module": "@jupyter-widgets/base",
          "model_name": "LayoutModel",
          "model_module_version": "1.2.0",
          "state": {
            "_view_name": "LayoutView",
            "grid_template_rows": null,
            "right": null,
            "justify_content": null,
            "_view_module": "@jupyter-widgets/base",
            "overflow": null,
            "_model_module_version": "1.2.0",
            "_view_count": null,
            "flex_flow": null,
            "width": null,
            "min_width": null,
            "border": null,
            "align_items": null,
            "bottom": null,
            "_model_module": "@jupyter-widgets/base",
            "top": null,
            "grid_column": null,
            "overflow_y": null,
            "overflow_x": null,
            "grid_auto_flow": null,
            "grid_area": null,
            "grid_template_columns": null,
            "flex": null,
            "_model_name": "LayoutModel",
            "justify_items": null,
            "grid_row": null,
            "max_height": null,
            "align_content": null,
            "visibility": null,
            "align_self": null,
            "height": null,
            "min_height": null,
            "padding": null,
            "grid_auto_rows": null,
            "grid_gap": null,
            "max_width": null,
            "order": null,
            "_view_module_version": "1.2.0",
            "grid_template_areas": null,
            "object_position": null,
            "object_fit": null,
            "grid_auto_columns": null,
            "margin": null,
            "display": null,
            "left": null
          }
        }
      }
    }
  },
  "nbformat": 4,
  "nbformat_minor": 0
}